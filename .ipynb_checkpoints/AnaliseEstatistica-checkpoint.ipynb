{
 "cells": [
  {
   "cell_type": "markdown",
   "id": "b3c4e96a",
   "metadata": {},
   "source": [
    "# Analisando a desigualdade no Brasil"
   ]
  },
  {
   "cell_type": "markdown",
   "id": "efcc76c9",
   "metadata": {},
   "source": [
    "---"
   ]
  },
  {
   "cell_type": "code",
   "execution_count": 2,
   "id": "bc86af71",
   "metadata": {},
   "outputs": [],
   "source": [
    "import pandas as pd\n",
    "import numpy as np\n",
    "import seaborn as sns\n",
    "import matplotlib.pyplot as plt\n",
    "sns.set_style('whitegrid')\n",
    "sns.set_palette('Accent')"
   ]
  },
  {
   "cell_type": "markdown",
   "id": "67a73285",
   "metadata": {},
   "source": [
    "## Algumas funções para facilitar a criação de gráficos: "
   ]
  },
  {
   "cell_type": "code",
   "execution_count": 3,
   "id": "0ca1e459",
   "metadata": {},
   "outputs": [],
   "source": [
    "def hist(data, xlabel='', ylabel='', titulo='', stat='count', bins=75, kde=True, palette='Accent'):\n",
    "    ax = sns.histplot(data, kde=kde, stat=stat, bins=bins, palette=palette)\n",
    "    ax.set_xlabel(xlabel, fontsize=14)\n",
    "    ax.set_ylabel(ylabel, fontsize=14)\n",
    "    ax.set_title(titulo, fontsize=16)\n",
    "    ax.figure.set_size_inches((16, 8))\n",
    "    return ax\n",
    "def hist_cumulativo(data, xlabel='', ylabel='', titulo=''):\n",
    "    ax = sns.ecdfplot(data)\n",
    "    ax.set_xlabel(xlabel, fontsize=14)\n",
    "    ax.set_ylabel(ylabel, fontsize=14)\n",
    "    ax.set_title(titulo, fontsize=16)\n",
    "    ax.figure.set_size_inches((12, 6))\n",
    "    return ax\n",
    "\n",
    "def line_plot(data, xlabel='', ylabel='', titulo=''):\n",
    "    ax = sns.lineplot(data=data)\n",
    "    ax.set_xlabel(xlabel, fontsize=14)\n",
    "    ax.set_ylabel(ylabel, fontsize=14)\n",
    "    ax.set_title(titulo, fontsize=16)\n",
    "    ax.figure.set_size_inches((12, 6))\n",
    "    return ax\n",
    "\n",
    "def lm_plot(data, x, y, titulo='', xlabel='', ylabel='', hue=None, col=None):\n",
    "    ax = sns.lmplot(data=data, x=x, y=y, hue=hue, col=col)\n",
    "    ax.set_xlabels(xlabel, fontsize=14)\n",
    "    ax.set_ylabels(ylabel, fontsize=14)\n",
    "    ax.fig.suptitle(titulo, fontsize=16)\n",
    "    ax.fig.set_size_inches((12, 6))\n",
    "    return ax\n",
    "    \n",
    "def boxplot_x(data, x, y, hue=None, xlabel='', titulo='', size=(12, 6), palette='Accent'):\n",
    "    ax = sns.boxplot(data = data, x=x, y=y, hue=hue, showmeans=True, palette=palette)\n",
    "    ax.set_title(titulo, fontsize=18)\n",
    "    ax.set_xlabel(xlabel, fontsize=14)\n",
    "    ax.figure.set_size_inches(size)\n",
    "    return ax"
   ]
  },
  {
   "cell_type": "markdown",
   "id": "0dfebf9c",
   "metadata": {},
   "source": [
    "# Dados extraídos da PNAD (IBGE)"
   ]
  },
  {
   "cell_type": "markdown",
   "id": "2fd7fede",
   "metadata": {},
   "source": [
    "### Tratando os dados, substituindo as labels numéricas por valores mais descritivos"
   ]
  },
  {
   "cell_type": "markdown",
   "id": "df677d48",
   "metadata": {},
   "source": [
    "## Observação importante sobre a variável anos de estudo: \n",
    "## Essa variável varia de 0 a 15, sendo que:\n",
    "### 0: representa uma pessoa que nunca foi à escola;\n",
    "### 4: ensino fundamental I completo;\n",
    "### 8: ensino fundamental II completo;\n",
    "### 11: ensino médio completo;\n",
    "### 15: ensino superior em diante;\n",
    "### Os valores intermediários representam pessoas que tiveram que interromper seus estudos entre alguns desses estágios."
   ]
  },
  {
   "cell_type": "code",
   "execution_count": 4,
   "id": "5f6a94c5",
   "metadata": {},
   "outputs": [],
   "source": [
    "dados = pd.read_csv(\"dados.csv\")\n",
    "sexo = {\n",
    "    0: 'Masculino', \n",
    "    1: 'Feminino'\n",
    "}\n",
    "cor = {\n",
    "    0: 'Indígena', \n",
    "    2: 'Branca', \n",
    "    4: 'Preta', \n",
    "    6: 'Amarela', \n",
    "    8: 'Parda', \n",
    "    9: 'Sem declaração'\n",
    "}\n",
    "uf = {\n",
    "    11: 'Rondônia', \n",
    "    12: 'Acre', \n",
    "    13: 'Amazonas', \n",
    "    14: 'Roraima', \n",
    "    15: 'Pará', \n",
    "    16: 'Amapá', \n",
    "    17: 'Tocantins', \n",
    "    21: 'Maranhão', \n",
    "    22: 'Piauí', \n",
    "    23: 'Ceará', \n",
    "    24: 'Rio Grande do Norte', \n",
    "    25: 'Paraíba', \n",
    "    26: 'Pernambuco', \n",
    "    27: 'Alagoas', \n",
    "    28: 'Sergipe', \n",
    "    29: 'Bahia', \n",
    "    31: 'Minas Gerais', \n",
    "    32: 'Espírito Santo', \n",
    "    33: 'Rio de Janeiro', \n",
    "    35: 'São Paulo', \n",
    "    41: 'Paraná', \n",
    "    42: 'Santa Catarina', \n",
    "    43: 'Rio Grande do Sul', \n",
    "    50: 'Mato Grosso do Sul', \n",
    "    51: 'Mato Grosso', \n",
    "    52: 'Goiás', \n",
    "    53: 'Distrito Federal'\n",
    "}\n",
    "dados.UF.replace(uf, inplace=True)\n",
    "dados.Cor.replace(cor, inplace=True)\n",
    "dados.Sexo.replace(sexo, inplace=True)\n",
    "dados = dados[dados['Anos de Estudo'] < 17]\n",
    "dados['Anos de Estudo'] -= 1"
   ]
  },
  {
   "cell_type": "code",
   "execution_count": 5,
   "id": "83e42da5",
   "metadata": {},
   "outputs": [
    {
     "data": {
      "text/html": [
       "<div>\n",
       "<style scoped>\n",
       "    .dataframe tbody tr th:only-of-type {\n",
       "        vertical-align: middle;\n",
       "    }\n",
       "\n",
       "    .dataframe tbody tr th {\n",
       "        vertical-align: top;\n",
       "    }\n",
       "\n",
       "    .dataframe thead th {\n",
       "        text-align: right;\n",
       "    }\n",
       "</style>\n",
       "<table border=\"1\" class=\"dataframe\">\n",
       "  <thead>\n",
       "    <tr style=\"text-align: right;\">\n",
       "      <th></th>\n",
       "      <th>UF</th>\n",
       "      <th>Sexo</th>\n",
       "      <th>Idade</th>\n",
       "      <th>Cor</th>\n",
       "      <th>Anos de Estudo</th>\n",
       "      <th>Renda</th>\n",
       "      <th>Altura</th>\n",
       "    </tr>\n",
       "  </thead>\n",
       "  <tbody>\n",
       "    <tr>\n",
       "      <th>0</th>\n",
       "      <td>Rondônia</td>\n",
       "      <td>Masculino</td>\n",
       "      <td>23</td>\n",
       "      <td>Parda</td>\n",
       "      <td>11</td>\n",
       "      <td>800</td>\n",
       "      <td>1.603808</td>\n",
       "    </tr>\n",
       "    <tr>\n",
       "      <th>1</th>\n",
       "      <td>Rondônia</td>\n",
       "      <td>Feminino</td>\n",
       "      <td>23</td>\n",
       "      <td>Branca</td>\n",
       "      <td>11</td>\n",
       "      <td>1150</td>\n",
       "      <td>1.739790</td>\n",
       "    </tr>\n",
       "    <tr>\n",
       "      <th>2</th>\n",
       "      <td>Rondônia</td>\n",
       "      <td>Feminino</td>\n",
       "      <td>35</td>\n",
       "      <td>Parda</td>\n",
       "      <td>14</td>\n",
       "      <td>880</td>\n",
       "      <td>1.760444</td>\n",
       "    </tr>\n",
       "    <tr>\n",
       "      <th>3</th>\n",
       "      <td>Rondônia</td>\n",
       "      <td>Masculino</td>\n",
       "      <td>46</td>\n",
       "      <td>Branca</td>\n",
       "      <td>5</td>\n",
       "      <td>3500</td>\n",
       "      <td>1.783158</td>\n",
       "    </tr>\n",
       "    <tr>\n",
       "      <th>4</th>\n",
       "      <td>Rondônia</td>\n",
       "      <td>Feminino</td>\n",
       "      <td>47</td>\n",
       "      <td>Parda</td>\n",
       "      <td>8</td>\n",
       "      <td>150</td>\n",
       "      <td>1.690631</td>\n",
       "    </tr>\n",
       "  </tbody>\n",
       "</table>\n",
       "</div>"
      ],
      "text/plain": [
       "         UF       Sexo  Idade     Cor  Anos de Estudo  Renda    Altura\n",
       "0  Rondônia  Masculino     23   Parda              11    800  1.603808\n",
       "1  Rondônia   Feminino     23  Branca              11   1150  1.739790\n",
       "2  Rondônia   Feminino     35   Parda              14    880  1.760444\n",
       "3  Rondônia  Masculino     46  Branca               5   3500  1.783158\n",
       "4  Rondônia   Feminino     47   Parda               8    150  1.690631"
      ]
     },
     "execution_count": 5,
     "metadata": {},
     "output_type": "execute_result"
    }
   ],
   "source": [
    "dados.head()"
   ]
  },
  {
   "cell_type": "markdown",
   "id": "6b88c1cf",
   "metadata": {},
   "source": [
    "## Quantidade de Homens e Mulheres chefes de família:"
   ]
  },
  {
   "cell_type": "code",
   "execution_count": 6,
   "id": "dfef46bf",
   "metadata": {},
   "outputs": [
    {
     "data": {
      "text/plain": [
       "Masculino    0.693355\n",
       "Feminino     0.306645\n",
       "Name: Sexo, dtype: float64"
      ]
     },
     "execution_count": 6,
     "metadata": {},
     "output_type": "execute_result"
    }
   ],
   "source": [
    "dados.Sexo.value_counts(normalize=True)"
   ]
  },
  {
   "cell_type": "markdown",
   "id": "f9217c87",
   "metadata": {},
   "source": [
    "## A proporção entre homens e mulheres na população é de 45% para 55%, enquanto a proporção entre os chefes de família é de 69,3% para 30,7%"
   ]
  },
  {
   "cell_type": "markdown",
   "id": "06c03f9d",
   "metadata": {},
   "source": [
    "---"
   ]
  },
  {
   "cell_type": "markdown",
   "id": "274ade5e",
   "metadata": {},
   "source": [
    "# Comparando as médias da Renda"
   ]
  },
  {
   "cell_type": "code",
   "execution_count": 7,
   "id": "faf81c77",
   "metadata": {},
   "outputs": [
    {
     "data": {
      "text/html": [
       "<div>\n",
       "<style scoped>\n",
       "    .dataframe tbody tr th:only-of-type {\n",
       "        vertical-align: middle;\n",
       "    }\n",
       "\n",
       "    .dataframe tbody tr th {\n",
       "        vertical-align: top;\n",
       "    }\n",
       "\n",
       "    .dataframe thead th {\n",
       "        text-align: right;\n",
       "    }\n",
       "</style>\n",
       "<table border=\"1\" class=\"dataframe\">\n",
       "  <thead>\n",
       "    <tr style=\"text-align: right;\">\n",
       "      <th></th>\n",
       "      <th>count</th>\n",
       "      <th>mean</th>\n",
       "      <th>std</th>\n",
       "      <th>min</th>\n",
       "      <th>25%</th>\n",
       "      <th>50%</th>\n",
       "      <th>75%</th>\n",
       "      <th>max</th>\n",
       "    </tr>\n",
       "    <tr>\n",
       "      <th>Sexo</th>\n",
       "      <th></th>\n",
       "      <th></th>\n",
       "      <th></th>\n",
       "      <th></th>\n",
       "      <th></th>\n",
       "      <th></th>\n",
       "      <th></th>\n",
       "      <th></th>\n",
       "    </tr>\n",
       "  </thead>\n",
       "  <tbody>\n",
       "    <tr>\n",
       "      <th>Feminino</th>\n",
       "      <td>23504.0</td>\n",
       "      <td>1569.65993</td>\n",
       "      <td>2574.792373</td>\n",
       "      <td>0.0</td>\n",
       "      <td>700.0</td>\n",
       "      <td>900.0</td>\n",
       "      <td>1520.0</td>\n",
       "      <td>120000.0</td>\n",
       "    </tr>\n",
       "    <tr>\n",
       "      <th>Masculino</th>\n",
       "      <td>53145.0</td>\n",
       "      <td>2194.21319</td>\n",
       "      <td>3593.375194</td>\n",
       "      <td>0.0</td>\n",
       "      <td>800.0</td>\n",
       "      <td>1350.0</td>\n",
       "      <td>2300.0</td>\n",
       "      <td>200000.0</td>\n",
       "    </tr>\n",
       "  </tbody>\n",
       "</table>\n",
       "</div>"
      ],
      "text/plain": [
       "             count        mean          std  min    25%     50%     75%  \\\n",
       "Sexo                                                                      \n",
       "Feminino   23504.0  1569.65993  2574.792373  0.0  700.0   900.0  1520.0   \n",
       "Masculino  53145.0  2194.21319  3593.375194  0.0  800.0  1350.0  2300.0   \n",
       "\n",
       "                max  \n",
       "Sexo                 \n",
       "Feminino   120000.0  \n",
       "Masculino  200000.0  "
      ]
     },
     "execution_count": 7,
     "metadata": {},
     "output_type": "execute_result"
    }
   ],
   "source": [
    "dados.groupby('Sexo').Renda.describe()"
   ]
  },
  {
   "cell_type": "code",
   "execution_count": 8,
   "id": "4d0e40c2",
   "metadata": {},
   "outputs": [],
   "source": [
    "from statsmodels.stats.weightstats import zconfint"
   ]
  },
  {
   "cell_type": "code",
   "execution_count": 9,
   "id": "bfa56529",
   "metadata": {},
   "outputs": [
    {
     "data": {
      "text/plain": [
       "(2163.66261095428, 2224.7637697024143)"
      ]
     },
     "execution_count": 9,
     "metadata": {},
     "output_type": "execute_result"
    }
   ],
   "source": [
    "media_homens = zconfint(dados.query('Sexo==\"Masculino\"').Renda)\n",
    "media_homens"
   ]
  },
  {
   "cell_type": "code",
   "execution_count": 10,
   "id": "9359153b",
   "metadata": {},
   "outputs": [
    {
     "data": {
      "text/plain": [
       "(1536.7429932658026, 1602.5768671834828)"
      ]
     },
     "execution_count": 10,
     "metadata": {},
     "output_type": "execute_result"
    }
   ],
   "source": [
    "media_mulheres = zconfint(dados.query('Sexo==\"Feminino\"').Renda)\n",
    "media_mulheres"
   ]
  },
  {
   "cell_type": "code",
   "execution_count": 11,
   "id": "779dba9d",
   "metadata": {},
   "outputs": [
    {
     "name": "stdout",
     "output_type": "stream",
     "text": [
      "Os homens ganham entre R$561.09 e R$688.02 a mais do que as mulheres\n"
     ]
    }
   ],
   "source": [
    "print(f'Os homens ganham entre R${round(media_homens[0] - media_mulheres[1], 2)} e R${round(media_homens[1] - media_mulheres[0], 2)} a mais do que as mulheres')"
   ]
  },
  {
   "cell_type": "markdown",
   "id": "4a4a5e7f",
   "metadata": {},
   "source": [
    "# Comparando as médias dos Anos de Estudo"
   ]
  },
  {
   "cell_type": "code",
   "execution_count": 12,
   "id": "f5f8fe35",
   "metadata": {},
   "outputs": [
    {
     "data": {
      "text/plain": [
       "(8.066069090205525, 8.14313215167988)"
      ]
     },
     "execution_count": 12,
     "metadata": {},
     "output_type": "execute_result"
    }
   ],
   "source": [
    "media_homens = zconfint(dados.query('Sexo==\"Masculino\"')['Anos de Estudo'])\n",
    "media_homens"
   ]
  },
  {
   "cell_type": "code",
   "execution_count": 13,
   "id": "4d65d68b",
   "metadata": {},
   "outputs": [
    {
     "data": {
      "text/plain": [
       "(9.177328236565831, 9.290507025517218)"
      ]
     },
     "execution_count": 13,
     "metadata": {},
     "output_type": "execute_result"
    }
   ],
   "source": [
    "media_mulheres = zconfint(dados.query('Sexo==\"Feminino\"')['Anos de Estudo'])\n",
    "media_mulheres"
   ]
  },
  {
   "cell_type": "code",
   "execution_count": 14,
   "id": "3ac2b913",
   "metadata": {},
   "outputs": [
    {
     "name": "stdout",
     "output_type": "stream",
     "text": [
      "As mulheres estudam em média 1.03 e 1.22 anos a mais do que os homens\n"
     ]
    }
   ],
   "source": [
    "print(f'As mulheres estudam em média {round(media_mulheres[0] - media_homens[1], 2)} e {round(media_mulheres[1] - media_homens[0], 2)} anos a mais do que os homens')"
   ]
  },
  {
   "cell_type": "markdown",
   "id": "c5d4edb2",
   "metadata": {},
   "source": [
    "## Visualizando graficamente"
   ]
  },
  {
   "cell_type": "code",
   "execution_count": 15,
   "id": "7c9154e7",
   "metadata": {},
   "outputs": [],
   "source": [
    "dados_limitado = dados.query('Renda < 11000 & Renda > 0')"
   ]
  },
  {
   "cell_type": "code",
   "execution_count": 16,
   "id": "9823bb2c",
   "metadata": {},
   "outputs": [
    {
     "data": {
      "text/plain": [
       "<AxesSubplot:title={'center':'Distribuição de Renda entre os Homens Chefes de Família'}, xlabel='Renda (R$)', ylabel='Frequência (%)'>"
      ]
     },
     "execution_count": 16,
     "metadata": {},
     "output_type": "execute_result"
    },
    {
     "data": {
      "image/png": "[encoded data removed]",
      "text/plain": [
       "<Figure size 1152x576 with 1 Axes>"
      ]
     },
     "metadata": {},
     "output_type": "display_data"
    }
   ],
   "source": [
    "sns.set_palette('Accent')\n",
    "hist(dados_limitado.query('Sexo ==\"Masculino\"').Renda, titulo='Distribuição de Renda entre os Homens Chefes de Família', ylabel='Frequência (%)', xlabel='Renda (R$)', stat='probability')"
   ]
  },
  {
   "cell_type": "code",
   "execution_count": 17,
   "id": "01e9e81d",
   "metadata": {},
   "outputs": [
    {
     "data": {
      "image/png": "[encoded data removed]",
      "text/plain": [
       "<Figure size 1152x576 with 1 Axes>"
      ]
     },
     "metadata": {},
     "output_type": "display_data"
    }
   ],
   "source": [
    "sns.set_palette('BuPu_r')\n",
    "ax = hist(dados_limitado.query('Sexo ==\"Feminino\"').Renda, titulo='Distribuição de Renda entre as Mulheres Chefes de Família', ylabel='Frequência (%)', xlabel='Renda (R$)', stat='probability')"
   ]
  },
  {
   "cell_type": "code",
   "execution_count": 18,
   "id": "2cf6fd89",
   "metadata": {},
   "outputs": [
    {
     "data": {
      "image/png": "[encoded data removed]",
      "text/plain": [
       "<Figure size 1152x576 with 1 Axes>"
      ]
     },
     "metadata": {},
     "output_type": "display_data"
    }
   ],
   "source": [
    "sns.set_palette('Accent')\n",
    "ax = hist(dados_limitado.query('Sexo ==\"Masculino\"')['Anos de Estudo'], titulo='Distribuição do Estudo entre os Homens Chefes de Família', ylabel='Porcentagem', xlabel='Anos de Estudo', stat='probability', bins=20, kde=False)"
   ]
  },
  {
   "cell_type": "code",
   "execution_count": 19,
   "id": "fb4db4ba",
   "metadata": {},
   "outputs": [
    {
     "data": {
      "text/plain": [
       "<AxesSubplot:title={'center':'Distribuição do Estudo entre as Mulheres Chefes de Família'}, xlabel='Anos de Estudo', ylabel='Porcentagem'>"
      ]
     },
     "execution_count": 19,
     "metadata": {},
     "output_type": "execute_result"
    },
    {
     "data": {
      "image/png": "[encoded data removed]",
      "text/plain": [
       "<Figure size 1152x576 with 1 Axes>"
      ]
     },
     "metadata": {},
     "output_type": "display_data"
    }
   ],
   "source": [
    "sns.set_palette('BuPu_r')\n",
    "hist(dados_limitado.query('Sexo ==\"Feminino\"')['Anos de Estudo'], titulo='Distribuição do Estudo entre as Mulheres Chefes de Família', ylabel='Porcentagem', xlabel='Anos de Estudo', stat='probability', bins=20, kde=False)"
   ]
  },
  {
   "cell_type": "markdown",
   "id": "2d6e3750",
   "metadata": {},
   "source": [
    "---"
   ]
  },
  {
   "cell_type": "markdown",
   "id": "5728d4b2",
   "metadata": {},
   "source": [
    "# Fazendo testes de hipótese"
   ]
  },
  {
   "cell_type": "code",
   "execution_count": 20,
   "id": "d45c7ac4",
   "metadata": {},
   "outputs": [],
   "source": [
    "from scipy.stats import mannwhitneyu"
   ]
  },
  {
   "cell_type": "code",
   "execution_count": 21,
   "id": "9bb9dc77",
   "metadata": {},
   "outputs": [],
   "source": [
    "from statsmodels.stats.weightstats import DescrStatsW, CompareMeans"
   ]
  },
  {
   "cell_type": "code",
   "execution_count": 22,
   "id": "2a4e88d8",
   "metadata": {},
   "outputs": [
    {
     "data": {
      "text/html": [
       "<div>\n",
       "<style scoped>\n",
       "    .dataframe tbody tr th:only-of-type {\n",
       "        vertical-align: middle;\n",
       "    }\n",
       "\n",
       "    .dataframe tbody tr th {\n",
       "        vertical-align: top;\n",
       "    }\n",
       "\n",
       "    .dataframe thead th {\n",
       "        text-align: right;\n",
       "    }\n",
       "</style>\n",
       "<table border=\"1\" class=\"dataframe\">\n",
       "  <thead>\n",
       "    <tr style=\"text-align: right;\">\n",
       "      <th></th>\n",
       "      <th>Idade</th>\n",
       "      <th>Anos de Estudo</th>\n",
       "      <th>Renda</th>\n",
       "      <th>Altura</th>\n",
       "    </tr>\n",
       "  </thead>\n",
       "  <tbody>\n",
       "    <tr>\n",
       "      <th>Idade</th>\n",
       "      <td>1.000000</td>\n",
       "      <td>-0.267006</td>\n",
       "      <td>0.041097</td>\n",
       "      <td>-0.001266</td>\n",
       "    </tr>\n",
       "    <tr>\n",
       "      <th>Anos de Estudo</th>\n",
       "      <td>-0.267006</td>\n",
       "      <td>1.000000</td>\n",
       "      <td>0.334513</td>\n",
       "      <td>0.003751</td>\n",
       "    </tr>\n",
       "    <tr>\n",
       "      <th>Renda</th>\n",
       "      <td>0.041097</td>\n",
       "      <td>0.334513</td>\n",
       "      <td>1.000000</td>\n",
       "      <td>-0.004031</td>\n",
       "    </tr>\n",
       "    <tr>\n",
       "      <th>Altura</th>\n",
       "      <td>-0.001266</td>\n",
       "      <td>0.003751</td>\n",
       "      <td>-0.004031</td>\n",
       "      <td>1.000000</td>\n",
       "    </tr>\n",
       "  </tbody>\n",
       "</table>\n",
       "</div>"
      ],
      "text/plain": [
       "                   Idade  Anos de Estudo     Renda    Altura\n",
       "Idade           1.000000       -0.267006  0.041097 -0.001266\n",
       "Anos de Estudo -0.267006        1.000000  0.334513  0.003751\n",
       "Renda           0.041097        0.334513  1.000000 -0.004031\n",
       "Altura         -0.001266        0.003751 -0.004031  1.000000"
      ]
     },
     "execution_count": 22,
     "metadata": {},
     "output_type": "execute_result"
    }
   ],
   "source": [
    "dados.corr()"
   ]
  },
  {
   "cell_type": "code",
   "execution_count": 23,
   "id": "ad72c0aa",
   "metadata": {},
   "outputs": [],
   "source": [
    "homens = dados[dados.Sexo == 'Masculino']\n",
    "mulheres = dados[dados.Sexo == 'Feminino']"
   ]
  },
  {
   "cell_type": "code",
   "execution_count": 24,
   "id": "a0592685",
   "metadata": {},
   "outputs": [],
   "source": [
    "test_h = DescrStatsW(homens.Renda)\n",
    "test_m = DescrStatsW(mulheres.Renda)"
   ]
  },
  {
   "cell_type": "markdown",
   "id": "0fb872fc",
   "metadata": {},
   "source": [
    "### A aceitação de H<sub>0</sub> acontece quando o p_valor é maior que o nível de confiança. Nível de confiança adotado nos testes foi de 95%. "
   ]
  },
  {
   "cell_type": "markdown",
   "id": "d3629b4a",
   "metadata": {},
   "source": [
    "## Teste bicaudal"
   ]
  },
  {
   "cell_type": "markdown",
   "id": "71df0dee",
   "metadata": {},
   "source": [
    "### H<sub>0</sub>: Renda das mulheres == Renda dos homens\n",
    "### H<sub>1</sub>: Renda das mulheres != Renda dos homens"
   ]
  },
  {
   "cell_type": "code",
   "execution_count": 25,
   "id": "e1f0e064",
   "metadata": {},
   "outputs": [
    {
     "name": "stdout",
     "output_type": "stream",
     "text": [
      "0.0\n"
     ]
    }
   ],
   "source": [
    "stats, p_value = mannwhitneyu(mulheres.Renda, homens.Renda, alternative='two-sided')\n",
    "print(p_value)"
   ]
  },
  {
   "cell_type": "code",
   "execution_count": 26,
   "id": "7b905b11",
   "metadata": {},
   "outputs": [
    {
     "name": "stdout",
     "output_type": "stream",
     "text": [
      "7.427561598825379e-128\n"
     ]
    }
   ],
   "source": [
    "test = CompareMeans(test_h, test_m)\n",
    "z, p_value = test.ztest_ind(alternative=\"two-sided\", value=0)\n",
    "print(p_value)"
   ]
  },
  {
   "cell_type": "markdown",
   "id": "364ae61f",
   "metadata": {},
   "source": [
    "### Devemos rejeitar H<sub>0</sub>\n",
    "---"
   ]
  },
  {
   "cell_type": "markdown",
   "id": "1adc8e20",
   "metadata": {},
   "source": [
    "## Teste Unicaudal Superior"
   ]
  },
  {
   "cell_type": "markdown",
   "id": "d447ea05",
   "metadata": {},
   "source": [
    "### H<sub>0</sub>: Renda das mulheres >= Renda dos homens\n",
    "### H<sub>1</sub>: Renda das mulheres < Renda dos homens"
   ]
  },
  {
   "cell_type": "code",
   "execution_count": 27,
   "id": "7a39f4a1",
   "metadata": {},
   "outputs": [
    {
     "name": "stdout",
     "output_type": "stream",
     "text": [
      "477327640.5\n",
      "0.0\n"
     ]
    }
   ],
   "source": [
    "stats, p_value = mannwhitneyu(mulheres.Renda, homens.Renda, alternative='less')\n",
    "print(stats)\n",
    "print(p_value)"
   ]
  },
  {
   "cell_type": "code",
   "execution_count": 28,
   "id": "370a05c8",
   "metadata": {},
   "outputs": [
    {
     "name": "stdout",
     "output_type": "stream",
     "text": [
      "3.7137807994126893e-128\n"
     ]
    }
   ],
   "source": [
    "test = CompareMeans(test_h, test_m)\n",
    "z, p_value = test.ztest_ind(alternative=\"larger\", value=0)\n",
    "print(p_value)"
   ]
  },
  {
   "cell_type": "markdown",
   "id": "3c3f7748",
   "metadata": {},
   "source": [
    "### Devemos rejeitar H<sub>0</sub>\n",
    "---"
   ]
  },
  {
   "cell_type": "markdown",
   "id": "207fdffb",
   "metadata": {},
   "source": [
    "## Teste Unicaudal Inferior"
   ]
  },
  {
   "cell_type": "markdown",
   "id": "c99b8a6d",
   "metadata": {},
   "source": [
    "### H<sub>0</sub>: Renda das mulheres <= Renda dos homens\n",
    "### H<sub>1</sub>: Renda das mulheres > Renda dos homens"
   ]
  },
  {
   "cell_type": "code",
   "execution_count": 29,
   "id": "7a3bfcb5",
   "metadata": {},
   "outputs": [
    {
     "name": "stdout",
     "output_type": "stream",
     "text": [
      "477327640.5\n",
      "1.0\n"
     ]
    }
   ],
   "source": [
    "stats, p_value = mannwhitneyu(mulheres.Renda, homens.Renda, alternative='greater')\n",
    "print(stats)\n",
    "print(p_value)"
   ]
  },
  {
   "cell_type": "code",
   "execution_count": 30,
   "id": "538a3ae2",
   "metadata": {},
   "outputs": [
    {
     "name": "stdout",
     "output_type": "stream",
     "text": [
      "1.0\n"
     ]
    }
   ],
   "source": [
    "test = CompareMeans(test_h, test_m)\n",
    "z, p_value = test.ztest_ind(alternative=\"smaller\", value=0)\n",
    "print(p_value)"
   ]
  },
  {
   "cell_type": "markdown",
   "id": "b5ba0a8a",
   "metadata": {},
   "source": [
    "### Devemos aceitar H<sub>0</sub>\n",
    "---"
   ]
  },
  {
   "cell_type": "markdown",
   "id": "8768a47f",
   "metadata": {},
   "source": [
    "# Fazendo testes com a variável anos de Estudo"
   ]
  },
  {
   "cell_type": "code",
   "execution_count": 31,
   "id": "e5f38601",
   "metadata": {},
   "outputs": [],
   "source": [
    "test_h = DescrStatsW(homens['Anos de Estudo'])\n",
    "test_m = DescrStatsW(mulheres['Anos de Estudo'])"
   ]
  },
  {
   "cell_type": "markdown",
   "id": "1517ebce",
   "metadata": {},
   "source": [
    "### H<sub>0</sub>: Estudo das mulheres <= Estudo dos homens\n",
    "### H<sub>1</sub>: Estudo das mulheres > Estudo dos homens"
   ]
  },
  {
   "cell_type": "code",
   "execution_count": 32,
   "id": "96be321f",
   "metadata": {},
   "outputs": [
    {
     "name": "stdout",
     "output_type": "stream",
     "text": [
      "1.654076520269829e-225\n"
     ]
    }
   ],
   "source": [
    "test = CompareMeans(test_h, test_m)\n",
    "z, p_value = test.ztest_ind(alternative=\"smaller\", value=0)\n",
    "print(p_value)"
   ]
  },
  {
   "cell_type": "markdown",
   "id": "f4eb1f69",
   "metadata": {},
   "source": [
    "### Devemos rejeitar H<sub>0</sub>\n",
    "---"
   ]
  },
  {
   "cell_type": "markdown",
   "id": "0db40109",
   "metadata": {},
   "source": [
    "### H<sub>0</sub>: Estudo das mulheres >= Estudo dos homens\n",
    "### H<sub>1</sub>: Estudo das mulheres < Estudo dos homens"
   ]
  },
  {
   "cell_type": "code",
   "execution_count": 33,
   "id": "15959d98",
   "metadata": {},
   "outputs": [
    {
     "name": "stdout",
     "output_type": "stream",
     "text": [
      "1.0\n"
     ]
    }
   ],
   "source": [
    "test = CompareMeans(test_h, test_m)\n",
    "z, p_value = test.ztest_ind(alternative=\"larger\", value=0)\n",
    "print(p_value)"
   ]
  },
  {
   "cell_type": "markdown",
   "id": "69d6ce2c",
   "metadata": {},
   "source": [
    "### Devemos aceitar H<sub>0</sub>\n",
    "---"
   ]
  },
  {
   "cell_type": "markdown",
   "id": "482a2a95",
   "metadata": {},
   "source": [
    "### H<sub>0</sub>: Estudo das mulheres == Estudo dos homens\n",
    "### H<sub>1</sub>: Estudo das mulheres != Estudo dos homens"
   ]
  },
  {
   "cell_type": "code",
   "execution_count": 34,
   "id": "d68d2956",
   "metadata": {},
   "outputs": [
    {
     "name": "stdout",
     "output_type": "stream",
     "text": [
      "3.308153040539658e-225\n"
     ]
    }
   ],
   "source": [
    "test = CompareMeans(test_h, test_m)\n",
    "z, p_value = test.ztest_ind(alternative=\"two-sided\", value=0)\n",
    "print(p_value)"
   ]
  },
  {
   "cell_type": "markdown",
   "id": "b892503c",
   "metadata": {},
   "source": [
    "### Devemos rejeitar H<sub>0</sub>\n",
    "---"
   ]
  },
  {
   "cell_type": "markdown",
   "id": "dbc231ce",
   "metadata": {},
   "source": [
    "## A conclusão que podemos obter com todos esses testes é que de fato existe uma diferença na renda e estudo de homens e mulheres. No geral, as mulheres que são chefes de família acabam recebendo um salário menor mesmo tendo mais tempo de estudo."
   ]
  },
  {
   "cell_type": "markdown",
   "id": "cad952b5",
   "metadata": {},
   "source": [
    "---"
   ]
  },
  {
   "cell_type": "markdown",
   "id": "9b561354",
   "metadata": {},
   "source": [
    "# Visualizando graficamente com boxplots"
   ]
  },
  {
   "cell_type": "code",
   "execution_count": 35,
   "id": "6cc689de",
   "metadata": {},
   "outputs": [
    {
     "data": {
      "text/plain": [
       "<AxesSubplot:title={'center':'Renda de Acordo com Sexo e Etnia, com Renda de até 5000 reais'}, xlabel='Renda em R$', ylabel='Cor'>"
      ]
     },
     "execution_count": 35,
     "metadata": {},
     "output_type": "execute_result"
    },
    {
     "data": {
      "image/png": "[encoded data removed]",
      "text/plain": [
       "<Figure size 1152x1440 with 1 Axes>"
      ]
     },
     "metadata": {},
     "output_type": "display_data"
    }
   ],
   "source": [
    "boxplot_x(data=dados.query('Renda > 0').query('Renda < 5000'), x='Renda', y='Cor', hue='Sexo', titulo='Renda de Acordo com Sexo e Etnia, com Renda de até 5000 reais', xlabel='Renda em R$', size=(16, 20), palette='BuPu')"
   ]
  },
  {
   "cell_type": "code",
   "execution_count": 36,
   "id": "4a32eb4a",
   "metadata": {},
   "outputs": [
    {
     "data": {
      "text/plain": [
       "<AxesSubplot:title={'center':'Anos de Estudo de acordo com Sexo e Etnia'}, xlabel='Nível de Estudo', ylabel='Cor'>"
      ]
     },
     "execution_count": 36,
     "metadata": {},
     "output_type": "execute_result"
    },
    {
     "data": {
      "image/png": "[encoded data removed]",
      "text/plain": [
       "<Figure size 1152x1440 with 1 Axes>"
      ]
     },
     "metadata": {},
     "output_type": "display_data"
    }
   ],
   "source": [
    "boxplot_x(data=dados, x='Anos de Estudo', y='Cor', hue='Sexo', titulo='Anos de Estudo de acordo com Sexo e Etnia', xlabel='Nível de Estudo', size=(16, 20), palette='BuPu')"
   ]
  },
  {
   "cell_type": "code",
   "execution_count": 37,
   "id": "05c2aaaf",
   "metadata": {},
   "outputs": [
    {
     "data": {
      "text/html": [
       "<div>\n",
       "<style scoped>\n",
       "    .dataframe tbody tr th:only-of-type {\n",
       "        vertical-align: middle;\n",
       "    }\n",
       "\n",
       "    .dataframe tbody tr th {\n",
       "        vertical-align: top;\n",
       "    }\n",
       "\n",
       "    .dataframe thead th {\n",
       "        text-align: right;\n",
       "    }\n",
       "</style>\n",
       "<table border=\"1\" class=\"dataframe\">\n",
       "  <thead>\n",
       "    <tr style=\"text-align: right;\">\n",
       "      <th></th>\n",
       "      <th>Idade</th>\n",
       "      <th>Anos de Estudo</th>\n",
       "      <th>Renda</th>\n",
       "      <th>Altura</th>\n",
       "    </tr>\n",
       "  </thead>\n",
       "  <tbody>\n",
       "    <tr>\n",
       "      <th>Idade</th>\n",
       "      <td>1.000000</td>\n",
       "      <td>-0.230593</td>\n",
       "      <td>0.056476</td>\n",
       "      <td>-0.001016</td>\n",
       "    </tr>\n",
       "    <tr>\n",
       "      <th>Anos de Estudo</th>\n",
       "      <td>-0.230593</td>\n",
       "      <td>1.000000</td>\n",
       "      <td>0.419646</td>\n",
       "      <td>0.004908</td>\n",
       "    </tr>\n",
       "    <tr>\n",
       "      <th>Renda</th>\n",
       "      <td>0.056476</td>\n",
       "      <td>0.419646</td>\n",
       "      <td>1.000000</td>\n",
       "      <td>0.003179</td>\n",
       "    </tr>\n",
       "    <tr>\n",
       "      <th>Altura</th>\n",
       "      <td>-0.001016</td>\n",
       "      <td>0.004908</td>\n",
       "      <td>0.003179</td>\n",
       "      <td>1.000000</td>\n",
       "    </tr>\n",
       "  </tbody>\n",
       "</table>\n",
       "</div>"
      ],
      "text/plain": [
       "                   Idade  Anos de Estudo     Renda    Altura\n",
       "Idade           1.000000       -0.230593  0.056476 -0.001016\n",
       "Anos de Estudo -0.230593        1.000000  0.419646  0.004908\n",
       "Renda           0.056476        0.419646  1.000000  0.003179\n",
       "Altura         -0.001016        0.004908  0.003179  1.000000"
      ]
     },
     "execution_count": 37,
     "metadata": {},
     "output_type": "execute_result"
    }
   ],
   "source": [
    "dados.query('Renda > 300').query('Renda < 10000').corr()"
   ]
  },
  {
   "cell_type": "code",
   "execution_count": 38,
   "id": "c7783f69",
   "metadata": {},
   "outputs": [
    {
     "data": {
      "text/html": [
       "<div>\n",
       "<style scoped>\n",
       "    .dataframe tbody tr th:only-of-type {\n",
       "        vertical-align: middle;\n",
       "    }\n",
       "\n",
       "    .dataframe tbody tr th {\n",
       "        vertical-align: top;\n",
       "    }\n",
       "\n",
       "    .dataframe thead th {\n",
       "        text-align: right;\n",
       "    }\n",
       "</style>\n",
       "<table border=\"1\" class=\"dataframe\">\n",
       "  <thead>\n",
       "    <tr style=\"text-align: right;\">\n",
       "      <th></th>\n",
       "      <th>Idade</th>\n",
       "      <th>Anos de Estudo</th>\n",
       "      <th>Renda</th>\n",
       "      <th>Altura</th>\n",
       "    </tr>\n",
       "  </thead>\n",
       "  <tbody>\n",
       "    <tr>\n",
       "      <th>Idade</th>\n",
       "      <td>1.000000</td>\n",
       "      <td>-0.267006</td>\n",
       "      <td>0.041097</td>\n",
       "      <td>-0.001266</td>\n",
       "    </tr>\n",
       "    <tr>\n",
       "      <th>Anos de Estudo</th>\n",
       "      <td>-0.267006</td>\n",
       "      <td>1.000000</td>\n",
       "      <td>0.334513</td>\n",
       "      <td>0.003751</td>\n",
       "    </tr>\n",
       "    <tr>\n",
       "      <th>Renda</th>\n",
       "      <td>0.041097</td>\n",
       "      <td>0.334513</td>\n",
       "      <td>1.000000</td>\n",
       "      <td>-0.004031</td>\n",
       "    </tr>\n",
       "    <tr>\n",
       "      <th>Altura</th>\n",
       "      <td>-0.001266</td>\n",
       "      <td>0.003751</td>\n",
       "      <td>-0.004031</td>\n",
       "      <td>1.000000</td>\n",
       "    </tr>\n",
       "  </tbody>\n",
       "</table>\n",
       "</div>"
      ],
      "text/plain": [
       "                   Idade  Anos de Estudo     Renda    Altura\n",
       "Idade           1.000000       -0.267006  0.041097 -0.001266\n",
       "Anos de Estudo -0.267006        1.000000  0.334513  0.003751\n",
       "Renda           0.041097        0.334513  1.000000 -0.004031\n",
       "Altura         -0.001266        0.003751 -0.004031  1.000000"
      ]
     },
     "execution_count": 38,
     "metadata": {},
     "output_type": "execute_result"
    }
   ],
   "source": [
    "dados.corr()"
   ]
  },
  {
   "cell_type": "markdown",
   "id": "f3e5ea8d",
   "metadata": {},
   "source": [
    "# Criando um modelo de regressão"
   ]
  },
  {
   "cell_type": "code",
   "execution_count": 39,
   "id": "b21aa868",
   "metadata": {},
   "outputs": [],
   "source": [
    "import statsmodels.api as sm"
   ]
  },
  {
   "cell_type": "markdown",
   "id": "1b610367",
   "metadata": {},
   "source": [
    "## Para simplificar o modelo e aumentar sua precisão, vamos considerar somente as pessoas de SP cuja renda está entre 300 e 10000"
   ]
  },
  {
   "cell_type": "code",
   "execution_count": 40,
   "id": "bda89e9a",
   "metadata": {},
   "outputs": [],
   "source": [
    "dados_filtrado = dados[dados.Renda > 300]\n",
    "dados_filtrado = dados_filtrado[dados_filtrado.Renda < 10000]\n",
    "dados_filtrado = dados_filtrado.query('UF == \"São Paulo\"')"
   ]
  },
  {
   "cell_type": "code",
   "execution_count": 41,
   "id": "1c203088",
   "metadata": {},
   "outputs": [],
   "source": [
    "X = sm.add_constant(dados_filtrado['Anos de Estudo'])\n",
    "Y = dados_filtrado.Renda\n",
    "resultado_regressao = sm.OLS(Y, X, missing='drop').fit()"
   ]
  },
  {
   "cell_type": "code",
   "execution_count": 42,
   "id": "a33f0d99",
   "metadata": {},
   "outputs": [
    {
     "name": "stdout",
     "output_type": "stream",
     "text": [
      "                            OLS Regression Results                            \n",
      "==============================================================================\n",
      "Dep. Variable:                  Renda   R-squared:                       0.185\n",
      "Model:                            OLS   Adj. R-squared:                  0.185\n",
      "Method:                 Least Squares   F-statistic:                     1800.\n",
      "Date:                Sun, 02 Oct 2022   Prob (F-statistic):               0.00\n",
      "Time:                        20:24:51   Log-Likelihood:                -68701.\n",
      "No. Observations:                7922   AIC:                         1.374e+05\n",
      "Df Residuals:                    7920   BIC:                         1.374e+05\n",
      "Df Model:                           1                                         \n",
      "Covariance Type:            nonrobust                                         \n",
      "==================================================================================\n",
      "                     coef    std err          t      P>|t|      [0.025      0.975]\n",
      "----------------------------------------------------------------------------------\n",
      "const            534.0695     40.712     13.118      0.000     454.264     613.875\n",
      "Anos de Estudo   166.9754      3.936     42.422      0.000     159.260     174.691\n",
      "==============================================================================\n",
      "Omnibus:                     2481.456   Durbin-Watson:                   1.690\n",
      "Prob(Omnibus):                  0.000   Jarque-Bera (JB):             7393.924\n",
      "Skew:                           1.637   Prob(JB):                         0.00\n",
      "Kurtosis:                       6.417   Cond. No.                         26.7\n",
      "==============================================================================\n",
      "\n",
      "Notes:\n",
      "[1] Standard Errors assume that the covariance matrix of the errors is correctly specified.\n"
     ]
    }
   ],
   "source": [
    "print(resultado_regressao.summary())"
   ]
  },
  {
   "cell_type": "markdown",
   "id": "84b09379",
   "metadata": {},
   "source": [
    "### Fórmula Desenvolvida : Renda = 534,06 + 166,97 * Anos de Estudo"
   ]
  },
  {
   "cell_type": "code",
   "execution_count": 43,
   "id": "628d19d3",
   "metadata": {},
   "outputs": [
    {
     "data": {
      "text/plain": [
       "3038.6998262305888"
      ]
     },
     "execution_count": 43,
     "metadata": {},
     "output_type": "execute_result"
    }
   ],
   "source": [
    "resultado_regressao.predict([1, 15])[0]"
   ]
  },
  {
   "cell_type": "markdown",
   "id": "67fd20c9",
   "metadata": {},
   "source": [
    "### Exemplo: Uma pessoa com 15 anos de estudo ganharia: 3038,69 reais"
   ]
  },
  {
   "cell_type": "markdown",
   "id": "d2e4efcf",
   "metadata": {},
   "source": [
    "### Vamos dividir de acordo com gênero e cor para comparar os resultados"
   ]
  },
  {
   "cell_type": "markdown",
   "id": "93d469cc",
   "metadata": {},
   "source": [
    "## Homens"
   ]
  },
  {
   "cell_type": "code",
   "execution_count": 44,
   "id": "f0b07112",
   "metadata": {},
   "outputs": [],
   "source": [
    "homens = dados_filtrado.query('Sexo == \"Masculino\"')\n",
    "\n",
    "X = sm.add_constant(homens['Anos de Estudo'])\n",
    "Y = homens.Renda\n",
    "resultado_regressao = sm.OLS(Y, X, missing='drop').fit()"
   ]
  },
  {
   "cell_type": "code",
   "execution_count": 45,
   "id": "7efe30dd",
   "metadata": {},
   "outputs": [
    {
     "name": "stdout",
     "output_type": "stream",
     "text": [
      "                            OLS Regression Results                            \n",
      "==============================================================================\n",
      "Dep. Variable:                  Renda   R-squared:                       0.195\n",
      "Model:                            OLS   Adj. R-squared:                  0.195\n",
      "Method:                 Least Squares   F-statistic:                     1323.\n",
      "Date:                Sun, 02 Oct 2022   Prob (F-statistic):          1.54e-259\n",
      "Time:                        20:24:51   Log-Likelihood:                -47455.\n",
      "No. Observations:                5464   AIC:                         9.491e+04\n",
      "Df Residuals:                    5462   BIC:                         9.493e+04\n",
      "Df Model:                           1                                         \n",
      "Covariance Type:            nonrobust                                         \n",
      "==================================================================================\n",
      "                     coef    std err          t      P>|t|      [0.025      0.975]\n",
      "----------------------------------------------------------------------------------\n",
      "const            668.5312     49.007     13.642      0.000     572.458     764.604\n",
      "Anos de Estudo   175.2117      4.818     36.369      0.000     165.767     184.656\n",
      "==============================================================================\n",
      "Omnibus:                     1606.168   Durbin-Watson:                   1.681\n",
      "Prob(Omnibus):                  0.000   Jarque-Bera (JB):             4401.584\n",
      "Skew:                           1.566   Prob(JB):                         0.00\n",
      "Kurtosis:                       6.086   Cond. No.                         26.0\n",
      "==============================================================================\n",
      "\n",
      "Notes:\n",
      "[1] Standard Errors assume that the covariance matrix of the errors is correctly specified.\n"
     ]
    }
   ],
   "source": [
    "print(resultado_regressao.summary())"
   ]
  },
  {
   "cell_type": "markdown",
   "id": "f8bc1390",
   "metadata": {},
   "source": [
    "### Fórmula Desenvolvida : Renda = 668,53 + 175,21 * Anos de Estudo"
   ]
  },
  {
   "cell_type": "code",
   "execution_count": 46,
   "id": "b17f056d",
   "metadata": {},
   "outputs": [
    {
     "data": {
      "text/plain": [
       "3296.7067616160202"
      ]
     },
     "execution_count": 46,
     "metadata": {},
     "output_type": "execute_result"
    }
   ],
   "source": [
    "previsao_homem = resultado_regressao.predict([1, 15])[0]\n",
    "previsao_homem"
   ]
  },
  {
   "cell_type": "markdown",
   "id": "d58e9da2",
   "metadata": {},
   "source": [
    "### Um homem com 15 anos de estudo ganharia um salário de 3296,70 reais"
   ]
  },
  {
   "cell_type": "markdown",
   "id": "ab14f865",
   "metadata": {},
   "source": [
    "## Mulheres:"
   ]
  },
  {
   "cell_type": "code",
   "execution_count": 47,
   "id": "77028bc0",
   "metadata": {},
   "outputs": [],
   "source": [
    "mulheres = dados_filtrado.query('Sexo == \"Feminino\"')\n",
    "\n",
    "X = sm.add_constant(mulheres['Anos de Estudo'])\n",
    "Y = mulheres.Renda\n",
    "resultado_regressao = sm.OLS(Y, X, missing='drop').fit()"
   ]
  },
  {
   "cell_type": "code",
   "execution_count": 48,
   "id": "9c915a16",
   "metadata": {},
   "outputs": [
    {
     "name": "stdout",
     "output_type": "stream",
     "text": [
      "                            OLS Regression Results                            \n",
      "==============================================================================\n",
      "Dep. Variable:                  Renda   R-squared:                       0.223\n",
      "Model:                            OLS   Adj. R-squared:                  0.222\n",
      "Method:                 Least Squares   F-statistic:                     703.6\n",
      "Date:                Sun, 02 Oct 2022   Prob (F-statistic):          1.51e-136\n",
      "Time:                        20:24:51   Log-Likelihood:                -21011.\n",
      "No. Observations:                2458   AIC:                         4.203e+04\n",
      "Df Residuals:                    2456   BIC:                         4.204e+04\n",
      "Df Model:                           1                                         \n",
      "Covariance Type:            nonrobust                                         \n",
      "==================================================================================\n",
      "                     coef    std err          t      P>|t|      [0.025      0.975]\n",
      "----------------------------------------------------------------------------------\n",
      "const             78.3088     66.858      1.171      0.242     -52.795     209.412\n",
      "Anos de Estudo   165.5411      6.241     26.526      0.000     153.304     177.779\n",
      "==============================================================================\n",
      "Omnibus:                      996.658   Durbin-Watson:                   1.725\n",
      "Prob(Omnibus):                  0.000   Jarque-Bera (JB):             4213.025\n",
      "Skew:                           1.965   Prob(JB):                         0.00\n",
      "Kurtosis:                       8.069   Cond. No.                         28.7\n",
      "==============================================================================\n",
      "\n",
      "Notes:\n",
      "[1] Standard Errors assume that the covariance matrix of the errors is correctly specified.\n"
     ]
    }
   ],
   "source": [
    "print(resultado_regressao.summary())"
   ]
  },
  {
   "cell_type": "markdown",
   "id": "6d6c8288",
   "metadata": {},
   "source": [
    "### Fórmula Desenvolvida : Renda = 78,30 + 165,54 * Anos de Estudo"
   ]
  },
  {
   "cell_type": "code",
   "execution_count": 49,
   "id": "02575dde",
   "metadata": {},
   "outputs": [
    {
     "data": {
      "text/plain": [
       "2561.4255182243623"
      ]
     },
     "execution_count": 49,
     "metadata": {},
     "output_type": "execute_result"
    }
   ],
   "source": [
    "previsao_mulher = resultado_regressao.predict([1, 15])[0]\n",
    "previsao_mulher"
   ]
  },
  {
   "cell_type": "markdown",
   "id": "c39c2491",
   "metadata": {},
   "source": [
    "### Uma mulher com 15 anos de Estudo ganharia 2561,42 reais"
   ]
  },
  {
   "cell_type": "code",
   "execution_count": 50,
   "id": "2ae6e4c1",
   "metadata": {},
   "outputs": [
    {
     "data": {
      "text/plain": [
       "735.2812433916579"
      ]
     },
     "execution_count": 50,
     "metadata": {},
     "output_type": "execute_result"
    }
   ],
   "source": [
    "previsao_homem - previsao_mulher"
   ]
  },
  {
   "cell_type": "markdown",
   "id": "735f7d5e",
   "metadata": {},
   "source": [
    "### Diferença de: 735,28 reais"
   ]
  },
  {
   "cell_type": "markdown",
   "id": "47f30026",
   "metadata": {},
   "source": [
    "## Homens Brancos"
   ]
  },
  {
   "cell_type": "code",
   "execution_count": 51,
   "id": "03b87715",
   "metadata": {},
   "outputs": [],
   "source": [
    "homens_brancos = dados_filtrado.query('Sexo == \"Masculino\"').query('Cor == \"Branca\"')\n",
    "\n",
    "X = sm.add_constant(homens_brancos['Anos de Estudo'])\n",
    "Y = homens_brancos.Renda\n",
    "resultado_regressao = sm.OLS(Y, X, missing='drop').fit()"
   ]
  },
  {
   "cell_type": "code",
   "execution_count": 52,
   "id": "282347d4",
   "metadata": {},
   "outputs": [
    {
     "name": "stdout",
     "output_type": "stream",
     "text": [
      "                            OLS Regression Results                            \n",
      "==============================================================================\n",
      "Dep. Variable:                  Renda   R-squared:                       0.208\n",
      "Model:                            OLS   Adj. R-squared:                  0.207\n",
      "Method:                 Least Squares   F-statistic:                     832.1\n",
      "Date:                Sun, 02 Oct 2022   Prob (F-statistic):          1.04e-162\n",
      "Time:                        20:24:51   Log-Likelihood:                -27892.\n",
      "No. Observations:                3177   AIC:                         5.579e+04\n",
      "Df Residuals:                    3175   BIC:                         5.580e+04\n",
      "Df Model:                           1                                         \n",
      "Covariance Type:            nonrobust                                         \n",
      "==================================================================================\n",
      "                     coef    std err          t      P>|t|      [0.025      0.975]\n",
      "----------------------------------------------------------------------------------\n",
      "const            498.2000     76.288      6.531      0.000     348.622     647.778\n",
      "Anos de Estudo   204.9933      7.106     28.846      0.000     191.060     218.927\n",
      "==============================================================================\n",
      "Omnibus:                      705.416   Durbin-Watson:                   1.738\n",
      "Prob(Omnibus):                  0.000   Jarque-Bera (JB):             1398.342\n",
      "Skew:                           1.325   Prob(JB):                    2.26e-304\n",
      "Kurtosis:                       4.883   Cond. No.                         29.6\n",
      "==============================================================================\n",
      "\n",
      "Notes:\n",
      "[1] Standard Errors assume that the covariance matrix of the errors is correctly specified.\n"
     ]
    }
   ],
   "source": [
    "print(resultado_regressao.summary())"
   ]
  },
  {
   "cell_type": "markdown",
   "id": "1829cd0a",
   "metadata": {},
   "source": [
    "### Fórmula Desenvolvida : Renda = 498,20 + 204,99 * Anos de Estudo"
   ]
  },
  {
   "cell_type": "code",
   "execution_count": 53,
   "id": "04167ec7",
   "metadata": {},
   "outputs": [
    {
     "data": {
      "text/plain": [
       "3573.0991564956175"
      ]
     },
     "execution_count": 53,
     "metadata": {},
     "output_type": "execute_result"
    }
   ],
   "source": [
    "previsao_homem_branco = resultado_regressao.predict([1, 15])[0]\n",
    "previsao_homem_branco"
   ]
  },
  {
   "cell_type": "markdown",
   "id": "e2ec2e8f",
   "metadata": {},
   "source": [
    "## Um homem branco com 15 anos de estudo teria uma renda de 3573,09 reais"
   ]
  },
  {
   "cell_type": "markdown",
   "id": "eea3da67",
   "metadata": {},
   "source": [
    "## Mulheres Negras"
   ]
  },
  {
   "cell_type": "code",
   "execution_count": 54,
   "id": "e28f73bb",
   "metadata": {},
   "outputs": [],
   "source": [
    "mulheres_negras = dados_filtrado.query('Sexo == \"Feminino\"').query('Cor == \"Preta\"')\n",
    "\n",
    "X = sm.add_constant(mulheres_negras['Anos de Estudo'])\n",
    "Y = mulheres_negras.Renda\n",
    "resultado_regressao = sm.OLS(Y, X, missing='drop').fit()"
   ]
  },
  {
   "cell_type": "code",
   "execution_count": 55,
   "id": "52856364",
   "metadata": {},
   "outputs": [
    {
     "name": "stdout",
     "output_type": "stream",
     "text": [
      "                            OLS Regression Results                            \n",
      "==============================================================================\n",
      "Dep. Variable:                  Renda   R-squared:                       0.126\n",
      "Model:                            OLS   Adj. R-squared:                  0.122\n",
      "Method:                 Least Squares   F-statistic:                     31.90\n",
      "Date:                Sun, 02 Oct 2022   Prob (F-statistic):           4.96e-08\n",
      "Time:                        20:24:51   Log-Likelihood:                -1880.2\n",
      "No. Observations:                 223   AIC:                             3764.\n",
      "Df Residuals:                     221   BIC:                             3771.\n",
      "Df Model:                           1                                         \n",
      "Covariance Type:            nonrobust                                         \n",
      "==================================================================================\n",
      "                     coef    std err          t      P>|t|      [0.025      0.975]\n",
      "----------------------------------------------------------------------------------\n",
      "const            517.8990    191.578      2.703      0.007     140.345     895.453\n",
      "Anos de Estudo   109.7913     19.438      5.648      0.000      71.484     148.099\n",
      "==============================================================================\n",
      "Omnibus:                      137.089   Durbin-Watson:                   1.935\n",
      "Prob(Omnibus):                  0.000   Jarque-Bera (JB):              784.433\n",
      "Skew:                           2.498   Prob(JB):                    4.60e-171\n",
      "Kurtosis:                      10.711   Cond. No.                         25.5\n",
      "==============================================================================\n",
      "\n",
      "Notes:\n",
      "[1] Standard Errors assume that the covariance matrix of the errors is correctly specified.\n"
     ]
    }
   ],
   "source": [
    "print(resultado_regressao.summary())"
   ]
  },
  {
   "cell_type": "markdown",
   "id": "816ee0fb",
   "metadata": {},
   "source": [
    "### Fórmula Desenvolvida : Renda = 517,89 + 109,79 * Anos de Estudo"
   ]
  },
  {
   "cell_type": "code",
   "execution_count": 56,
   "id": "fc829ea1",
   "metadata": {},
   "outputs": [
    {
     "data": {
      "text/plain": [
       "2164.768018527347"
      ]
     },
     "execution_count": 56,
     "metadata": {},
     "output_type": "execute_result"
    }
   ],
   "source": [
    "previsao_mulher_negra = resultado_regressao.predict([1, 15])[0]\n",
    "previsao_mulher_negra"
   ]
  },
  {
   "cell_type": "markdown",
   "id": "f69054fb",
   "metadata": {},
   "source": [
    "## Uma mulher negra com 15 anos de estudo ganharia 2164,76 reais"
   ]
  },
  {
   "cell_type": "code",
   "execution_count": 57,
   "id": "e8af1956",
   "metadata": {},
   "outputs": [
    {
     "data": {
      "text/plain": [
       "1408.3311379682705"
      ]
     },
     "execution_count": 57,
     "metadata": {},
     "output_type": "execute_result"
    }
   ],
   "source": [
    "previsao_homem_branco - previsao_mulher_negra"
   ]
  },
  {
   "cell_type": "markdown",
   "id": "cf2c8c9e",
   "metadata": {},
   "source": [
    "## Diferença entre o salário de um homem branco e de uma mulher negra: 1408,33 reais"
   ]
  },
  {
   "cell_type": "markdown",
   "id": "c9835e00",
   "metadata": {},
   "source": [
    "<table>\n",
    "    <thead>\n",
    "        <th>Renda em Função do Estudo de Acordo com a Etnia e Gênero</th>\n",
    "    </thead>\n",
    "    <tbody style=\"text-align: left;\">\n",
    "        <tr>\n",
    "            <td>Grupo</td>\n",
    "            <td>Função</td>\n",
    "            <td>Renda de alguém com Faculdade Completa</td>\n",
    "        </tr>\n",
    "        <tr>\n",
    "            <td>Geral:</td>\n",
    "            <td>Renda = 534,06 + 166,97 * Anos de Estudo</td>\n",
    "            <td>3.038,69</td>\n",
    "        </tr>\n",
    "        <tr>\n",
    "            <td>Homens:</td>\n",
    "            <td>Renda = 668,53 + 175,21 * Anos de Estudo</td>\n",
    "            <td>3.296,70</td>\n",
    "        </tr>\n",
    "        <tr>\n",
    "            <td>Mulheres:</td>\n",
    "            <td>Renda = 78,30 + 165,54 * Anos de Estudo</td>\n",
    "            <td>2.561,42</td>\n",
    "        </tr>\n",
    "        <tr>\n",
    "            <td>Homens Brancos:</td>\n",
    "            <td>Renda = 498,20 + 204,99 * Anos de Estudo</td>\n",
    "            <td>3.573,09</td>\n",
    "        </tr>\n",
    "        <tr>\n",
    "            <td>Mulheres Negras:</td>\n",
    "            <td>Renda = 517,89 + 109,79 * Anos de Estudo</td>\n",
    "            <td>2.164,76</td>\n",
    "        </tr>\n",
    "    </tbody>\n",
    "</table>"
   ]
  },
  {
   "cell_type": "markdown",
   "id": "05fb5854",
   "metadata": {},
   "source": [
    "# Adicionando a variável idade à regressão"
   ]
  },
  {
   "cell_type": "markdown",
   "id": "8118672f",
   "metadata": {},
   "source": [
    "## Geral"
   ]
  },
  {
   "cell_type": "markdown",
   "id": "943cbe77",
   "metadata": {},
   "source": [
    "### Em todos os exemplos abaixo, é considerada uma pessoa com 15 anos de estudo e 25 de idade, variando somente o genêro e etnia."
   ]
  },
  {
   "cell_type": "code",
   "execution_count": 58,
   "id": "770e85d8",
   "metadata": {},
   "outputs": [],
   "source": [
    "X = sm.add_constant(dados_filtrado[['Anos de Estudo', 'Idade']])\n",
    "Y = dados_filtrado.Renda\n",
    "regressao_com_idade = sm.OLS(Y, X, missing='drop').fit()"
   ]
  },
  {
   "cell_type": "code",
   "execution_count": 59,
   "id": "92c0cb99",
   "metadata": {},
   "outputs": [
    {
     "name": "stdout",
     "output_type": "stream",
     "text": [
      "                            OLS Regression Results                            \n",
      "==============================================================================\n",
      "Dep. Variable:                  Renda   R-squared:                       0.201\n",
      "Model:                            OLS   Adj. R-squared:                  0.200\n",
      "Method:                 Least Squares   F-statistic:                     993.8\n",
      "Date:                Sun, 02 Oct 2022   Prob (F-statistic):               0.00\n",
      "Time:                        20:24:52   Log-Likelihood:                -68625.\n",
      "No. Observations:                7922   AIC:                         1.373e+05\n",
      "Df Residuals:                    7919   BIC:                         1.373e+05\n",
      "Df Model:                           2                                         \n",
      "Covariance Type:            nonrobust                                         \n",
      "==================================================================================\n",
      "                     coef    std err          t      P>|t|      [0.025      0.975]\n",
      "----------------------------------------------------------------------------------\n",
      "const           -343.9816     81.552     -4.218      0.000    -503.845    -184.118\n",
      "Anos de Estudo   179.9626      4.037     44.576      0.000     172.049     187.877\n",
      "Idade             17.2069      1.389     12.387      0.000      14.484      19.930\n",
      "==============================================================================\n",
      "Omnibus:                     2436.039   Durbin-Watson:                   1.721\n",
      "Prob(Omnibus):                  0.000   Jarque-Bera (JB):             7272.173\n",
      "Skew:                           1.604   Prob(JB):                         0.00\n",
      "Kurtosis:                       6.427   Cond. No.                         240.\n",
      "==============================================================================\n",
      "\n",
      "Notes:\n",
      "[1] Standard Errors assume that the covariance matrix of the errors is correctly specified.\n"
     ]
    }
   ],
   "source": [
    "print(regressao_com_idade.summary())"
   ]
  },
  {
   "cell_type": "code",
   "execution_count": 60,
   "id": "aa22092a",
   "metadata": {},
   "outputs": [
    {
     "data": {
      "text/plain": [
       "2785.6296393386365"
      ]
     },
     "execution_count": 60,
     "metadata": {},
     "output_type": "execute_result"
    }
   ],
   "source": [
    "regressao_com_idade.predict([1, 15, 25])[0]"
   ]
  },
  {
   "cell_type": "markdown",
   "id": "e3012bdb",
   "metadata": {},
   "source": [
    "## Homens"
   ]
  },
  {
   "cell_type": "code",
   "execution_count": 61,
   "id": "21919c55",
   "metadata": {},
   "outputs": [
    {
     "name": "stdout",
     "output_type": "stream",
     "text": [
      "                            OLS Regression Results                            \n",
      "==============================================================================\n",
      "Dep. Variable:                  Renda   R-squared:                       0.215\n",
      "Model:                            OLS   Adj. R-squared:                  0.214\n",
      "Method:                 Least Squares   F-statistic:                     746.2\n",
      "Date:                Sun, 02 Oct 2022   Prob (F-statistic):          3.24e-287\n",
      "Time:                        20:24:52   Log-Likelihood:                -47387.\n",
      "No. Observations:                5464   AIC:                         9.478e+04\n",
      "Df Residuals:                    5461   BIC:                         9.480e+04\n",
      "Df Model:                           2                                         \n",
      "Covariance Type:            nonrobust                                         \n",
      "==================================================================================\n",
      "                     coef    std err          t      P>|t|      [0.025      0.975]\n",
      "----------------------------------------------------------------------------------\n",
      "const           -325.4717     97.811     -3.328      0.001    -517.221    -133.722\n",
      "Anos de Estudo   189.9662      4.923     38.586      0.000     180.315     199.618\n",
      "Idade             19.5379      1.671     11.695      0.000      16.263      22.813\n",
      "==============================================================================\n",
      "Omnibus:                     1572.357   Durbin-Watson:                   1.714\n",
      "Prob(Omnibus):                  0.000   Jarque-Bera (JB):             4344.717\n",
      "Skew:                           1.526   Prob(JB):                         0.00\n",
      "Kurtosis:                       6.125   Cond. No.                         237.\n",
      "==============================================================================\n",
      "\n",
      "Notes:\n",
      "[1] Standard Errors assume that the covariance matrix of the errors is correctly specified.\n"
     ]
    }
   ],
   "source": [
    "X = sm.add_constant(homens[['Anos de Estudo', 'Idade']])\n",
    "Y = homens.Renda\n",
    "regressao_com_idade = sm.OLS(Y, X, missing='drop').fit()\n",
    "print(regressao_com_idade.summary())"
   ]
  },
  {
   "cell_type": "code",
   "execution_count": 62,
   "id": "549a3ed7",
   "metadata": {},
   "outputs": [
    {
     "data": {
      "text/plain": [
       "3012.4694804446754"
      ]
     },
     "execution_count": 62,
     "metadata": {},
     "output_type": "execute_result"
    }
   ],
   "source": [
    "regressao_com_idade.predict([1, 15, 25])[0]"
   ]
  },
  {
   "cell_type": "markdown",
   "id": "b61a11d6",
   "metadata": {},
   "source": [
    "## Mulheres"
   ]
  },
  {
   "cell_type": "code",
   "execution_count": 63,
   "id": "d6e0cbf5",
   "metadata": {},
   "outputs": [
    {
     "name": "stdout",
     "output_type": "stream",
     "text": [
      "                            OLS Regression Results                            \n",
      "==============================================================================\n",
      "Dep. Variable:                  Renda   R-squared:                       0.234\n",
      "Model:                            OLS   Adj. R-squared:                  0.233\n",
      "Method:                 Least Squares   F-statistic:                     374.8\n",
      "Date:                Sun, 02 Oct 2022   Prob (F-statistic):          9.13e-143\n",
      "Time:                        20:24:52   Log-Likelihood:                -20994.\n",
      "No. Observations:                2458   AIC:                         4.199e+04\n",
      "Df Residuals:                    2455   BIC:                         4.201e+04\n",
      "Df Model:                           2                                         \n",
      "Covariance Type:            nonrobust                                         \n",
      "==================================================================================\n",
      "                     coef    std err          t      P>|t|      [0.025      0.975]\n",
      "----------------------------------------------------------------------------------\n",
      "const           -621.9347    134.405     -4.627      0.000    -885.493    -358.377\n",
      "Anos de Estudo   175.9623      6.436     27.339      0.000     163.341     188.583\n",
      "Idade             13.5987      2.269      5.992      0.000       9.148      18.049\n",
      "==============================================================================\n",
      "Omnibus:                      992.764   Durbin-Watson:                   1.752\n",
      "Prob(Omnibus):                  0.000   Jarque-Bera (JB):             4235.025\n",
      "Skew:                           1.951   Prob(JB):                         0.00\n",
      "Kurtosis:                       8.111   Cond. No.                         249.\n",
      "==============================================================================\n",
      "\n",
      "Notes:\n",
      "[1] Standard Errors assume that the covariance matrix of the errors is correctly specified.\n"
     ]
    }
   ],
   "source": [
    "X = sm.add_constant(mulheres[['Anos de Estudo', 'Idade']])\n",
    "Y = mulheres.Renda\n",
    "regressao_com_idade = sm.OLS(Y, X, missing='drop').fit()\n",
    "print(regressao_com_idade.summary())"
   ]
  },
  {
   "cell_type": "code",
   "execution_count": 64,
   "id": "27507a4f",
   "metadata": {},
   "outputs": [
    {
     "data": {
      "text/plain": [
       "2357.4666452564725"
      ]
     },
     "execution_count": 64,
     "metadata": {},
     "output_type": "execute_result"
    }
   ],
   "source": [
    "regressao_com_idade.predict([1, 15, 25])[0]"
   ]
  },
  {
   "cell_type": "markdown",
   "id": "f5aa87e3",
   "metadata": {},
   "source": [
    "## Homens Brancos"
   ]
  },
  {
   "cell_type": "code",
   "execution_count": 65,
   "id": "ba52b331",
   "metadata": {},
   "outputs": [
    {
     "name": "stdout",
     "output_type": "stream",
     "text": [
      "                            OLS Regression Results                            \n",
      "==============================================================================\n",
      "Dep. Variable:                  Renda   R-squared:                       0.225\n",
      "Model:                            OLS   Adj. R-squared:                  0.224\n",
      "Method:                 Least Squares   F-statistic:                     459.4\n",
      "Date:                Sun, 02 Oct 2022   Prob (F-statistic):          5.72e-176\n",
      "Time:                        20:24:52   Log-Likelihood:                -27857.\n",
      "No. Observations:                3177   AIC:                         5.572e+04\n",
      "Df Residuals:                    3174   BIC:                         5.574e+04\n",
      "Df Model:                           2                                         \n",
      "Covariance Type:            nonrobust                                         \n",
      "==================================================================================\n",
      "                     coef    std err          t      P>|t|      [0.025      0.975]\n",
      "----------------------------------------------------------------------------------\n",
      "const           -538.2283    145.846     -3.690      0.000    -824.190    -252.267\n",
      "Anos de Estudo   220.6579      7.280     30.310      0.000     206.384     234.932\n",
      "Idade             19.8002      2.384      8.305      0.000      15.126      24.475\n",
      "==============================================================================\n",
      "Omnibus:                      693.376   Durbin-Watson:                   1.779\n",
      "Prob(Omnibus):                  0.000   Jarque-Bera (JB):             1389.725\n",
      "Skew:                           1.294   Prob(JB):                    1.68e-302\n",
      "Kurtosis:                       4.950   Cond. No.                         248.\n",
      "==============================================================================\n",
      "\n",
      "Notes:\n",
      "[1] Standard Errors assume that the covariance matrix of the errors is correctly specified.\n"
     ]
    }
   ],
   "source": [
    "X = sm.add_constant(homens_brancos[['Anos de Estudo', 'Idade']])\n",
    "Y = homens_brancos.Renda\n",
    "regressao_com_idade = sm.OLS(Y, X, missing='drop').fit()\n",
    "print(regressao_com_idade.summary())"
   ]
  },
  {
   "cell_type": "code",
   "execution_count": 66,
   "id": "a038c20a",
   "metadata": {},
   "outputs": [
    {
     "data": {
      "text/plain": [
       "3266.6444820111037"
      ]
     },
     "execution_count": 66,
     "metadata": {},
     "output_type": "execute_result"
    }
   ],
   "source": [
    "regressao_com_idade.predict([1, 15, 25])[0]"
   ]
  },
  {
   "cell_type": "markdown",
   "id": "c9e4ab7b",
   "metadata": {},
   "source": [
    "## Mulheres Negras"
   ]
  },
  {
   "cell_type": "code",
   "execution_count": 67,
   "id": "2e44c9e5",
   "metadata": {},
   "outputs": [
    {
     "name": "stdout",
     "output_type": "stream",
     "text": [
      "                            OLS Regression Results                            \n",
      "==============================================================================\n",
      "Dep. Variable:                  Renda   R-squared:                       0.135\n",
      "Model:                            OLS   Adj. R-squared:                  0.127\n",
      "Method:                 Least Squares   F-statistic:                     17.10\n",
      "Date:                Sun, 02 Oct 2022   Prob (F-statistic):           1.25e-07\n",
      "Time:                        20:24:52   Log-Likelihood:                -1879.1\n",
      "No. Observations:                 223   AIC:                             3764.\n",
      "Df Residuals:                     220   BIC:                             3774.\n",
      "Df Model:                           2                                         \n",
      "Covariance Type:            nonrobust                                         \n",
      "==================================================================================\n",
      "                     coef    std err          t      P>|t|      [0.025      0.975]\n",
      "----------------------------------------------------------------------------------\n",
      "const            -51.5557    433.760     -0.119      0.905    -906.413     803.301\n",
      "Anos de Estudo   119.9316     20.591      5.825      0.000      79.351     160.512\n",
      "Idade             10.9363      7.478      1.462      0.145      -3.802      25.675\n",
      "==============================================================================\n",
      "Omnibus:                      138.161   Durbin-Watson:                   1.935\n",
      "Prob(Omnibus):                  0.000   Jarque-Bera (JB):              810.621\n",
      "Skew:                           2.510   Prob(JB):                    9.46e-177\n",
      "Kurtosis:                      10.876   Cond. No.                         267.\n",
      "==============================================================================\n",
      "\n",
      "Notes:\n",
      "[1] Standard Errors assume that the covariance matrix of the errors is correctly specified.\n"
     ]
    }
   ],
   "source": [
    "X = sm.add_constant(mulheres_negras[['Anos de Estudo', 'Idade']])\n",
    "Y = mulheres_negras.Renda\n",
    "regressao_com_idade = sm.OLS(Y, X, missing='drop').fit()\n",
    "print(regressao_com_idade.summary())"
   ]
  },
  {
   "cell_type": "code",
   "execution_count": 68,
   "id": "0b7fc0a7",
   "metadata": {},
   "outputs": [
    {
     "data": {
      "text/plain": [
       "2020.824166943507"
      ]
     },
     "execution_count": 68,
     "metadata": {},
     "output_type": "execute_result"
    }
   ],
   "source": [
    "regressao_com_idade.predict([1, 15, 25])[0]"
   ]
  },
  {
   "cell_type": "markdown",
   "id": "f86daf5d",
   "metadata": {},
   "source": [
    "### Como o P>|t| de Idade é 0.145, que é maior ou igual a 0.05, é preferível manter o modelo sem a variável Idade"
   ]
  },
  {
   "cell_type": "markdown",
   "id": "eaf97ccb",
   "metadata": {},
   "source": [
    "# Conclusão:\n",
    "## Os modelos desenvolvidos acima não são capazes de representar a distribuição de renda no Brasil, por ser muito complexa e depender de vários outros fatores, como o desemprego. Ainda assim, foi possível ilustrar bem a desigualdade étnica e de gênero, propósito inicial do projeto."
   ]
  },
  {
   "cell_type": "code",
   "execution_count": null,
   "id": "45943d8e",
   "metadata": {},
   "outputs": [],
   "source": []
  }
 ],
 "metadata": {
  "kernelspec": {
   "display_name": "Python 3",
   "language": "python",
   "name": "python3"
  },
  "language_info": {
   "codemirror_mode": {
    "name": "ipython",
    "version": 3
   },
   "file_extension": ".py",
   "mimetype": "text/x-python",
   "name": "python",
   "nbconvert_exporter": "python",
   "pygments_lexer": "ipython3",
   "version": "3.8.8"
  }
 },
 "nbformat": 4,
 "nbformat_minor": 5
}
