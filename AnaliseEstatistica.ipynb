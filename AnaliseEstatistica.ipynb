{
 "cells": [
  {
   "cell_type": "markdown",
   "id": "b3c4e96a",
   "metadata": {},
   "source": [
    "# Analisando a desigualdade no Brasil"
   ]
  },
  {
   "cell_type": "code",
   "execution_count": 3,
   "id": "bc86af71",
   "metadata": {},
   "outputs": [],
   "source": [
    "import pandas as pd\n",
    "import numpy as np\n",
    "import seaborn as sns\n",
    "import matplotlib.pyplot as plt\n",
    "sns.set_style('darkgrid')\n",
    "sns.set_palette('Accent')"
   ]
  },
  {
   "cell_type": "code",
   "execution_count": 81,
   "id": "0ca1e459",
   "metadata": {},
   "outputs": [],
   "source": [
    "def hist(data, xlabel='', ylabel='', titulo='', stat='count', bins=75, kde=True):\n",
    "    ax = sns.histplot(data, kde=kde, stat=stat, bins=bins)\n",
    "    ax.set_xlabel(xlabel, fontsize=14)\n",
    "    ax.set_ylabel(ylabel, fontsize=14)\n",
    "    ax.set_title(titulo, fontsize=16)\n",
    "    ax.figure.set_size_inches((12, 6))\n",
    "    return ax\n",
    "def hist_cumulativo(data, xlabel='', ylabel='', titulo=''):\n",
    "    ax = sns.ecdfplot(data)\n",
    "    ax.set_xlabel(xlabel, fontsize=14)\n",
    "    ax.set_ylabel(ylabel, fontsize=14)\n",
    "    ax.set_title(titulo, fontsize=16)\n",
    "    ax.figure.set_size_inches((12, 6))\n",
    "    return ax\n",
    "\n",
    "def line_plot(data, xlabel='', ylabel='', titulo=''):\n",
    "    ax = sns.lineplot(data=data)\n",
    "    ax.set_xlabel(xlabel, fontsize=14)\n",
    "    ax.set_ylabel(ylabel, fontsize=14)\n",
    "    ax.set_title(titulo, fontsize=16)\n",
    "    ax.figure.set_size_inches((12, 6))\n",
    "    return ax\n",
    "\n",
    "def lm_plot(data, x, y, titulo='', xlabel='', ylabel=''):\n",
    "    ax = sns.lmplot(data=data, x=x, y=y)\n",
    "    ax.set_xlabels(xlabel, fontsize=14)\n",
    "    ax.set_ylabels(ylabel, fontsize=14)\n",
    "    ax.fig.suptitle(titulo, fontsize=16)\n",
    "    ax.fig.set_size_inches((12, 6))\n",
    "    return ax\n",
    "    \n",
    "def boxplot_x(data, x, y, hue=None, xlabel='', titulo='', size=(12, 6), ):\n",
    "    ax = sns.boxplot(data = data, x=x, y=y, hue=hue, showmeans=True)\n",
    "    ax.set_title(titulo, fontsize=18)\n",
    "    ax.set_xlabel(xlabel, fontsize=14)\n",
    "    ax.figure.set_size_inches(size)\n",
    "    return ax"
   ]
  },
  {
   "cell_type": "markdown",
   "id": "0dfebf9c",
   "metadata": {},
   "source": [
    "# Dados extraídos da PNAD (IBGE)"
   ]
  },
  {
   "cell_type": "code",
   "execution_count": 5,
   "id": "5f6a94c5",
   "metadata": {},
   "outputs": [],
   "source": [
    "dados = pd.read_csv(\"dados.csv\")\n",
    "sexo = {\n",
    "    0: 'Masculino', \n",
    "    1: 'Feminino'\n",
    "}\n",
    "cor = {\n",
    "    0: 'Indígena', \n",
    "    2: 'Branca', \n",
    "    4: 'Preta', \n",
    "    6: 'Amarela', \n",
    "    8: 'Parda', \n",
    "    9: 'Sem declaração'\n",
    "}\n",
    "uf = {\n",
    "    11: 'Rondônia', \n",
    "    12: 'Acre', \n",
    "    13: 'Amazonas', \n",
    "    14: 'Roraima', \n",
    "    15: 'Pará', \n",
    "    16: 'Amapá', \n",
    "    17: 'Tocantins', \n",
    "    21: 'Maranhão', \n",
    "    22: 'Piauí', \n",
    "    23: 'Ceará', \n",
    "    24: 'Rio Grande do Norte', \n",
    "    25: 'Paraíba', \n",
    "    26: 'Pernambuco', \n",
    "    27: 'Alagoas', \n",
    "    28: 'Sergipe', \n",
    "    29: 'Bahia', \n",
    "    31: 'Minas Gerais', \n",
    "    32: 'Espírito Santo', \n",
    "    33: 'Rio de Janeiro', \n",
    "    35: 'São Paulo', \n",
    "    41: 'Paraná', \n",
    "    42: 'Santa Catarina', \n",
    "    43: 'Rio Grande do Sul', \n",
    "    50: 'Mato Grosso do Sul', \n",
    "    51: 'Mato Grosso', \n",
    "    52: 'Goiás', \n",
    "    53: 'Distrito Federal'\n",
    "}\n",
    "dados.UF.replace(uf, inplace=True)\n",
    "dados.Cor.replace(cor, inplace=True)\n",
    "dados.Sexo.replace(sexo, inplace=True)\n",
    "dados = dados[dados['Anos de Estudo'] < 17]\n",
    "dados['Anos de Estudo'] -= 1"
   ]
  },
  {
   "cell_type": "code",
   "execution_count": 6,
   "id": "83e42da5",
   "metadata": {},
   "outputs": [
    {
     "data": {
      "text/html": [
       "<div>\n",
       "<style scoped>\n",
       "    .dataframe tbody tr th:only-of-type {\n",
       "        vertical-align: middle;\n",
       "    }\n",
       "\n",
       "    .dataframe tbody tr th {\n",
       "        vertical-align: top;\n",
       "    }\n",
       "\n",
       "    .dataframe thead th {\n",
       "        text-align: right;\n",
       "    }\n",
       "</style>\n",
       "<table border=\"1\" class=\"dataframe\">\n",
       "  <thead>\n",
       "    <tr style=\"text-align: right;\">\n",
       "      <th></th>\n",
       "      <th>UF</th>\n",
       "      <th>Sexo</th>\n",
       "      <th>Idade</th>\n",
       "      <th>Cor</th>\n",
       "      <th>Anos de Estudo</th>\n",
       "      <th>Renda</th>\n",
       "      <th>Altura</th>\n",
       "    </tr>\n",
       "  </thead>\n",
       "  <tbody>\n",
       "    <tr>\n",
       "      <th>0</th>\n",
       "      <td>Rondônia</td>\n",
       "      <td>Masculino</td>\n",
       "      <td>23</td>\n",
       "      <td>Parda</td>\n",
       "      <td>11</td>\n",
       "      <td>800</td>\n",
       "      <td>1.603808</td>\n",
       "    </tr>\n",
       "    <tr>\n",
       "      <th>1</th>\n",
       "      <td>Rondônia</td>\n",
       "      <td>Feminino</td>\n",
       "      <td>23</td>\n",
       "      <td>Branca</td>\n",
       "      <td>11</td>\n",
       "      <td>1150</td>\n",
       "      <td>1.739790</td>\n",
       "    </tr>\n",
       "    <tr>\n",
       "      <th>2</th>\n",
       "      <td>Rondônia</td>\n",
       "      <td>Feminino</td>\n",
       "      <td>35</td>\n",
       "      <td>Parda</td>\n",
       "      <td>14</td>\n",
       "      <td>880</td>\n",
       "      <td>1.760444</td>\n",
       "    </tr>\n",
       "    <tr>\n",
       "      <th>3</th>\n",
       "      <td>Rondônia</td>\n",
       "      <td>Masculino</td>\n",
       "      <td>46</td>\n",
       "      <td>Branca</td>\n",
       "      <td>5</td>\n",
       "      <td>3500</td>\n",
       "      <td>1.783158</td>\n",
       "    </tr>\n",
       "    <tr>\n",
       "      <th>4</th>\n",
       "      <td>Rondônia</td>\n",
       "      <td>Feminino</td>\n",
       "      <td>47</td>\n",
       "      <td>Parda</td>\n",
       "      <td>8</td>\n",
       "      <td>150</td>\n",
       "      <td>1.690631</td>\n",
       "    </tr>\n",
       "  </tbody>\n",
       "</table>\n",
       "</div>"
      ],
      "text/plain": [
       "         UF       Sexo  Idade     Cor  Anos de Estudo  Renda    Altura\n",
       "0  Rondônia  Masculino     23   Parda              11    800  1.603808\n",
       "1  Rondônia   Feminino     23  Branca              11   1150  1.739790\n",
       "2  Rondônia   Feminino     35   Parda              14    880  1.760444\n",
       "3  Rondônia  Masculino     46  Branca               5   3500  1.783158\n",
       "4  Rondônia   Feminino     47   Parda               8    150  1.690631"
      ]
     },
     "execution_count": 6,
     "metadata": {},
     "output_type": "execute_result"
    }
   ],
   "source": [
    "dados.head()"
   ]
  },
  {
   "cell_type": "markdown",
   "id": "6b88c1cf",
   "metadata": {},
   "source": [
    "## Quantidade de Homens e Mulheres chefes de família:"
   ]
  },
  {
   "cell_type": "code",
   "execution_count": 7,
   "id": "dfef46bf",
   "metadata": {},
   "outputs": [
    {
     "data": {
      "text/plain": [
       "Masculino    0.693355\n",
       "Feminino     0.306645\n",
       "Name: Sexo, dtype: float64"
      ]
     },
     "execution_count": 7,
     "metadata": {},
     "output_type": "execute_result"
    }
   ],
   "source": [
    "dados.Sexo.value_counts(normalize=True)"
   ]
  },
  {
   "cell_type": "markdown",
   "id": "f9217c87",
   "metadata": {},
   "source": [
    "## A proporção entre homens e mulheres na população é de 45% para 55%, enquanto a proporção entre os chefes de família é de 69,3% para 30,7%"
   ]
  },
  {
   "cell_type": "markdown",
   "id": "06c03f9d",
   "metadata": {},
   "source": [
    "---"
   ]
  },
  {
   "cell_type": "markdown",
   "id": "274ade5e",
   "metadata": {},
   "source": [
    "# Comparando as médias da Renda"
   ]
  },
  {
   "cell_type": "code",
   "execution_count": 8,
   "id": "faf81c77",
   "metadata": {},
   "outputs": [
    {
     "data": {
      "text/html": [
       "<div>\n",
       "<style scoped>\n",
       "    .dataframe tbody tr th:only-of-type {\n",
       "        vertical-align: middle;\n",
       "    }\n",
       "\n",
       "    .dataframe tbody tr th {\n",
       "        vertical-align: top;\n",
       "    }\n",
       "\n",
       "    .dataframe thead th {\n",
       "        text-align: right;\n",
       "    }\n",
       "</style>\n",
       "<table border=\"1\" class=\"dataframe\">\n",
       "  <thead>\n",
       "    <tr style=\"text-align: right;\">\n",
       "      <th></th>\n",
       "      <th>count</th>\n",
       "      <th>mean</th>\n",
       "      <th>std</th>\n",
       "      <th>min</th>\n",
       "      <th>25%</th>\n",
       "      <th>50%</th>\n",
       "      <th>75%</th>\n",
       "      <th>max</th>\n",
       "    </tr>\n",
       "    <tr>\n",
       "      <th>Sexo</th>\n",
       "      <th></th>\n",
       "      <th></th>\n",
       "      <th></th>\n",
       "      <th></th>\n",
       "      <th></th>\n",
       "      <th></th>\n",
       "      <th></th>\n",
       "      <th></th>\n",
       "    </tr>\n",
       "  </thead>\n",
       "  <tbody>\n",
       "    <tr>\n",
       "      <th>Feminino</th>\n",
       "      <td>23504.0</td>\n",
       "      <td>1569.65993</td>\n",
       "      <td>2574.792373</td>\n",
       "      <td>0.0</td>\n",
       "      <td>700.0</td>\n",
       "      <td>900.0</td>\n",
       "      <td>1520.0</td>\n",
       "      <td>120000.0</td>\n",
       "    </tr>\n",
       "    <tr>\n",
       "      <th>Masculino</th>\n",
       "      <td>53145.0</td>\n",
       "      <td>2194.21319</td>\n",
       "      <td>3593.375194</td>\n",
       "      <td>0.0</td>\n",
       "      <td>800.0</td>\n",
       "      <td>1350.0</td>\n",
       "      <td>2300.0</td>\n",
       "      <td>200000.0</td>\n",
       "    </tr>\n",
       "  </tbody>\n",
       "</table>\n",
       "</div>"
      ],
      "text/plain": [
       "             count        mean          std  min    25%     50%     75%  \\\n",
       "Sexo                                                                      \n",
       "Feminino   23504.0  1569.65993  2574.792373  0.0  700.0   900.0  1520.0   \n",
       "Masculino  53145.0  2194.21319  3593.375194  0.0  800.0  1350.0  2300.0   \n",
       "\n",
       "                max  \n",
       "Sexo                 \n",
       "Feminino   120000.0  \n",
       "Masculino  200000.0  "
      ]
     },
     "execution_count": 8,
     "metadata": {},
     "output_type": "execute_result"
    }
   ],
   "source": [
    "dados.groupby('Sexo').Renda.describe()"
   ]
  },
  {
   "cell_type": "code",
   "execution_count": 9,
   "id": "4d0e40c2",
   "metadata": {},
   "outputs": [],
   "source": [
    "from statsmodels.stats.weightstats import zconfint"
   ]
  },
  {
   "cell_type": "code",
   "execution_count": 10,
   "id": "bfa56529",
   "metadata": {},
   "outputs": [
    {
     "data": {
      "text/plain": [
       "(2163.66261095428, 2224.7637697024143)"
      ]
     },
     "execution_count": 10,
     "metadata": {},
     "output_type": "execute_result"
    }
   ],
   "source": [
    "media_homens = zconfint(dados.query('Sexo==\"Masculino\"').Renda)\n",
    "media_homens"
   ]
  },
  {
   "cell_type": "code",
   "execution_count": 11,
   "id": "9359153b",
   "metadata": {},
   "outputs": [
    {
     "data": {
      "text/plain": [
       "(1536.7429932658026, 1602.5768671834828)"
      ]
     },
     "execution_count": 11,
     "metadata": {},
     "output_type": "execute_result"
    }
   ],
   "source": [
    "media_mulheres = zconfint(dados.query('Sexo==\"Feminino\"').Renda)\n",
    "media_mulheres"
   ]
  },
  {
   "cell_type": "code",
   "execution_count": 12,
   "id": "779dba9d",
   "metadata": {},
   "outputs": [
    {
     "name": "stdout",
     "output_type": "stream",
     "text": [
      "Os homens ganham entre R$561.09 e R$688.02 a mais do que as mulheres\n"
     ]
    }
   ],
   "source": [
    "print(f'Os homens ganham entre R${round(media_homens[0] - media_mulheres[1], 2)} e R${round(media_homens[1] - media_mulheres[0], 2)} a mais do que as mulheres')"
   ]
  },
  {
   "cell_type": "markdown",
   "id": "4a4a5e7f",
   "metadata": {},
   "source": [
    "# Comparando as médias dos Anos de Estudo"
   ]
  },
  {
   "cell_type": "code",
   "execution_count": 13,
   "id": "f5f8fe35",
   "metadata": {},
   "outputs": [
    {
     "data": {
      "text/plain": [
       "(8.066069090205525, 8.14313215167988)"
      ]
     },
     "execution_count": 13,
     "metadata": {},
     "output_type": "execute_result"
    }
   ],
   "source": [
    "media_homens = zconfint(dados.query('Sexo==\"Masculino\"')['Anos de Estudo'])\n",
    "media_homens"
   ]
  },
  {
   "cell_type": "code",
   "execution_count": 14,
   "id": "4d65d68b",
   "metadata": {},
   "outputs": [
    {
     "data": {
      "text/plain": [
       "(9.177328236565831, 9.290507025517218)"
      ]
     },
     "execution_count": 14,
     "metadata": {},
     "output_type": "execute_result"
    }
   ],
   "source": [
    "media_mulheres = zconfint(dados.query('Sexo==\"Feminino\"')['Anos de Estudo'])\n",
    "media_mulheres"
   ]
  },
  {
   "cell_type": "code",
   "execution_count": 15,
   "id": "3ac2b913",
   "metadata": {},
   "outputs": [
    {
     "name": "stdout",
     "output_type": "stream",
     "text": [
      "As mulheres estudam em média 1.03 e 1.22 anos a mais do que os homens\n"
     ]
    }
   ],
   "source": [
    "print(f'As mulheres estudam em média {round(media_mulheres[0] - media_homens[1], 2)} e {round(media_mulheres[1] - media_homens[0], 2)} anos a mais do que os homens')"
   ]
  },
  {
   "cell_type": "markdown",
   "id": "c5d4edb2",
   "metadata": {},
   "source": [
    "## Visualizando gráficamente"
   ]
  },
  {
   "cell_type": "code",
   "execution_count": 16,
   "id": "7c9154e7",
   "metadata": {},
   "outputs": [],
   "source": [
    "dados_limitado = dados.query('Renda < 11000 & Renda > 0')"
   ]
  },
  {
   "cell_type": "code",
   "execution_count": 26,
   "id": "9823bb2c",
   "metadata": {},
   "outputs": [
    {
     "data": {
      "text/plain": [
       "<AxesSubplot:title={'center':'Distribuição de Renda entre os Homens Chefes de Família'}, xlabel='Renda (R$)', ylabel='Frequência'>"
      ]
     },
     "execution_count": 26,
     "metadata": {},
     "output_type": "execute_result"
    },
    {
     "data": {
      "image/png": "[encoded data removed]",
      "text/plain": [
       "<Figure size 864x432 with 1 Axes>"
      ]
     },
     "metadata": {},
     "output_type": "display_data"
    }
   ],
   "source": [
    "hist(dados_limitado.query('Sexo ==\"Masculino\"').Renda, titulo='Distribuição de Renda entre os Homens Chefes de Família', ylabel='Frequência', xlabel='Renda (R$)', stat='probability')"
   ]
  },
  {
   "cell_type": "code",
   "execution_count": 27,
   "id": "01e9e81d",
   "metadata": {},
   "outputs": [
    {
     "data": {
      "text/plain": [
       "<AxesSubplot:title={'center':'Distribuição de Renda entre as Mulheres Chefes de Família'}, xlabel='Renda (R$)', ylabel='Frequência'>"
      ]
     },
     "execution_count": 27,
     "metadata": {},
     "output_type": "execute_result"
    },
    {
     "data": {
      "image/png": "[encoded data removed]",
      "text/plain": [
       "<Figure size 864x432 with 1 Axes>"
      ]
     },
     "metadata": {},
     "output_type": "display_data"
    }
   ],
   "source": [
    "hist(dados_limitado.query('Sexo ==\"Feminino\"').Renda, titulo='Distribuição de Renda entre as Mulheres Chefes de Família', ylabel='Frequência', xlabel='Renda (R$)', stat='probability')"
   ]
  },
  {
   "cell_type": "code",
   "execution_count": 32,
   "id": "2cf6fd89",
   "metadata": {},
   "outputs": [
    {
     "data": {
      "text/plain": [
       "<AxesSubplot:title={'center':'Distribuição do Estudo entre os Homens Chefes de Família'}, xlabel='Anos de Estudo', ylabel='Porcentagem'>"
      ]
     },
     "execution_count": 32,
     "metadata": {},
     "output_type": "execute_result"
    },
    {
     "data": {
      "image/png": "[encoded data removed]",
      "text/plain": [
       "<Figure size 864x432 with 1 Axes>"
      ]
     },
     "metadata": {},
     "output_type": "display_data"
    }
   ],
   "source": [
    "hist(dados_limitado.query('Sexo ==\"Masculino\"')['Anos de Estudo'], titulo='Distribuição do Estudo entre os Homens Chefes de Família', ylabel='Porcentagem', xlabel='Anos de Estudo', stat='probability', bins=20, kde=False)"
   ]
  },
  {
   "cell_type": "code",
   "execution_count": 33,
   "id": "fb4db4ba",
   "metadata": {},
   "outputs": [
    {
     "data": {
      "text/plain": [
       "<AxesSubplot:title={'center':'Distribuição do Estudo entre as Mulheres Chefes de Família'}, xlabel='Anos de Estudo', ylabel='Porcentagem'>"
      ]
     },
     "execution_count": 33,
     "metadata": {},
     "output_type": "execute_result"
    },
    {
     "data": {
      "image/png": "[encoded data removed]",
      "text/plain": [
       "<Figure size 864x432 with 1 Axes>"
      ]
     },
     "metadata": {},
     "output_type": "display_data"
    }
   ],
   "source": [
    "hist(dados_limitado.query('Sexo ==\"Feminino\"')['Anos de Estudo'], titulo='Distribuição do Estudo entre as Mulheres Chefes de Família', ylabel='Porcentagem', xlabel='Anos de Estudo', stat='probability', bins=20, kde=False)"
   ]
  },
  {
   "cell_type": "markdown",
   "id": "5728d4b2",
   "metadata": {},
   "source": [
    "# Fazendo testes de hipótese"
   ]
  },
  {
   "cell_type": "code",
   "execution_count": 34,
   "id": "2a4e88d8",
   "metadata": {},
   "outputs": [
    {
     "data": {
      "text/html": [
       "<div>\n",
       "<style scoped>\n",
       "    .dataframe tbody tr th:only-of-type {\n",
       "        vertical-align: middle;\n",
       "    }\n",
       "\n",
       "    .dataframe tbody tr th {\n",
       "        vertical-align: top;\n",
       "    }\n",
       "\n",
       "    .dataframe thead th {\n",
       "        text-align: right;\n",
       "    }\n",
       "</style>\n",
       "<table border=\"1\" class=\"dataframe\">\n",
       "  <thead>\n",
       "    <tr style=\"text-align: right;\">\n",
       "      <th></th>\n",
       "      <th>Idade</th>\n",
       "      <th>Anos de Estudo</th>\n",
       "      <th>Renda</th>\n",
       "      <th>Altura</th>\n",
       "    </tr>\n",
       "  </thead>\n",
       "  <tbody>\n",
       "    <tr>\n",
       "      <th>Idade</th>\n",
       "      <td>1.000000</td>\n",
       "      <td>-0.267006</td>\n",
       "      <td>0.041097</td>\n",
       "      <td>-0.001266</td>\n",
       "    </tr>\n",
       "    <tr>\n",
       "      <th>Anos de Estudo</th>\n",
       "      <td>-0.267006</td>\n",
       "      <td>1.000000</td>\n",
       "      <td>0.334513</td>\n",
       "      <td>0.003751</td>\n",
       "    </tr>\n",
       "    <tr>\n",
       "      <th>Renda</th>\n",
       "      <td>0.041097</td>\n",
       "      <td>0.334513</td>\n",
       "      <td>1.000000</td>\n",
       "      <td>-0.004031</td>\n",
       "    </tr>\n",
       "    <tr>\n",
       "      <th>Altura</th>\n",
       "      <td>-0.001266</td>\n",
       "      <td>0.003751</td>\n",
       "      <td>-0.004031</td>\n",
       "      <td>1.000000</td>\n",
       "    </tr>\n",
       "  </tbody>\n",
       "</table>\n",
       "</div>"
      ],
      "text/plain": [
       "                   Idade  Anos de Estudo     Renda    Altura\n",
       "Idade           1.000000       -0.267006  0.041097 -0.001266\n",
       "Anos de Estudo -0.267006        1.000000  0.334513  0.003751\n",
       "Renda           0.041097        0.334513  1.000000 -0.004031\n",
       "Altura         -0.001266        0.003751 -0.004031  1.000000"
      ]
     },
     "execution_count": 34,
     "metadata": {},
     "output_type": "execute_result"
    }
   ],
   "source": [
    "dados.corr()"
   ]
  },
  {
   "cell_type": "code",
   "execution_count": 37,
   "id": "ad72c0aa",
   "metadata": {},
   "outputs": [],
   "source": [
    "homens = dados[dados.Sexo == 'Masculino']\n",
    "mulheres = dados[dados.Sexo == 'Feminino']"
   ]
  },
  {
   "cell_type": "code",
   "execution_count": 60,
   "id": "a0592685",
   "metadata": {},
   "outputs": [],
   "source": [
    "test_h = DescrStatsW(homens.Renda)\n",
    "test_m = DescrStatsW(mulheres.Renda)"
   ]
  },
  {
   "cell_type": "code",
   "execution_count": 38,
   "id": "d45c7ac4",
   "metadata": {},
   "outputs": [],
   "source": [
    "from scipy.stats import mannwhitneyu"
   ]
  },
  {
   "cell_type": "code",
   "execution_count": 56,
   "id": "9bb9dc77",
   "metadata": {},
   "outputs": [],
   "source": [
    "from statsmodels.stats.weightstats import DescrStatsW, CompareMeans"
   ]
  },
  {
   "cell_type": "markdown",
   "id": "d3629b4a",
   "metadata": {},
   "source": [
    "## Teste bicaudal"
   ]
  },
  {
   "cell_type": "markdown",
   "id": "71df0dee",
   "metadata": {},
   "source": [
    "### H<sub>0</sub>: Renda das mulheres == Renda dos homens\n",
    "### H<sub>1</sub>: Renda das mulheres != Renda dos homens"
   ]
  },
  {
   "cell_type": "code",
   "execution_count": 50,
   "id": "e1f0e064",
   "metadata": {},
   "outputs": [
    {
     "name": "stdout",
     "output_type": "stream",
     "text": [
      "477327640.5\n",
      "0.0\n"
     ]
    }
   ],
   "source": [
    "stats, p_value = mannwhitneyu(mulheres.Renda, homens.Renda, alternative='two-sided')\n",
    "print(stats)\n",
    "print(p_value)"
   ]
  },
  {
   "cell_type": "code",
   "execution_count": 61,
   "id": "7b905b11",
   "metadata": {},
   "outputs": [
    {
     "data": {
      "text/plain": [
       "7.427561598825379e-128"
      ]
     },
     "execution_count": 61,
     "metadata": {},
     "output_type": "execute_result"
    }
   ],
   "source": [
    "test = CompareMeans(test_h, test_m)\n",
    "z, p_value = test.ztest_ind(alternative=\"two-sided\", value=0)\n",
    "p_value"
   ]
  },
  {
   "cell_type": "markdown",
   "id": "364ae61f",
   "metadata": {},
   "source": [
    "### Devemos rejeitar H<sub>0</sub>"
   ]
  },
  {
   "cell_type": "markdown",
   "id": "1adc8e20",
   "metadata": {},
   "source": [
    "## Teste Unicaudal Superior"
   ]
  },
  {
   "cell_type": "markdown",
   "id": "d447ea05",
   "metadata": {},
   "source": [
    "### H<sub>0</sub>: Renda das mulheres >= Renda dos homens\n",
    "### H<sub>1</sub>: Renda das mulheres < Renda dos homens"
   ]
  },
  {
   "cell_type": "code",
   "execution_count": 54,
   "id": "7a39f4a1",
   "metadata": {},
   "outputs": [
    {
     "name": "stdout",
     "output_type": "stream",
     "text": [
      "477327640.5\n",
      "0.0\n"
     ]
    }
   ],
   "source": [
    "stats, p_value = mannwhitneyu(mulheres.Renda, homens.Renda, alternative='less')\n",
    "print(stats)\n",
    "print(p_value)"
   ]
  },
  {
   "cell_type": "code",
   "execution_count": 63,
   "id": "370a05c8",
   "metadata": {},
   "outputs": [
    {
     "data": {
      "text/plain": [
       "3.7137807994126893e-128"
      ]
     },
     "execution_count": 63,
     "metadata": {},
     "output_type": "execute_result"
    }
   ],
   "source": [
    "test = CompareMeans(test_h, test_m)\n",
    "z, p_value = test.ztest_ind(alternative=\"larger\", value=0)\n",
    "p_value"
   ]
  },
  {
   "cell_type": "markdown",
   "id": "207fdffb",
   "metadata": {},
   "source": [
    "## Teste Unicaudal Inferior"
   ]
  },
  {
   "cell_type": "markdown",
   "id": "c99b8a6d",
   "metadata": {},
   "source": [
    "### H<sub>0</sub>: Renda das mulheres <= Renda dos homens\n",
    "### H<sub>1</sub>: Renda das mulheres > Renda dos homens"
   ]
  },
  {
   "cell_type": "code",
   "execution_count": 55,
   "id": "7a3bfcb5",
   "metadata": {},
   "outputs": [
    {
     "name": "stdout",
     "output_type": "stream",
     "text": [
      "477327640.5\n",
      "1.0\n"
     ]
    }
   ],
   "source": [
    "stats, p_value = mannwhitneyu(mulheres.Renda, homens.Renda, alternative='greater')\n",
    "print(stats)\n",
    "print(p_value)"
   ]
  },
  {
   "cell_type": "code",
   "execution_count": 64,
   "id": "538a3ae2",
   "metadata": {},
   "outputs": [
    {
     "data": {
      "text/plain": [
       "1.0"
      ]
     },
     "execution_count": 64,
     "metadata": {},
     "output_type": "execute_result"
    }
   ],
   "source": [
    "test = CompareMeans(test_h, test_m)\n",
    "z, p_value = test.ztest_ind(alternative=\"smaller\", value=0)\n",
    "p_value"
   ]
  },
  {
   "cell_type": "markdown",
   "id": "8768a47f",
   "metadata": {},
   "source": [
    "## Fazendo testes com a variável anos de Estudo"
   ]
  },
  {
   "cell_type": "code",
   "execution_count": 86,
   "id": "e5f38601",
   "metadata": {},
   "outputs": [],
   "source": [
    "test_h = DescrStatsW(homens['Anos de Estudo'])\n",
    "test_m = DescrStatsW(mulheres['Anos de Estudo'])"
   ]
  },
  {
   "cell_type": "markdown",
   "id": "1517ebce",
   "metadata": {},
   "source": [
    "### H<sub>0</sub>: Estudo das mulheres <= Estudo dos homens\n",
    "### H<sub>1</sub>: Estudo das mulheres > Estudo dos homens"
   ]
  },
  {
   "cell_type": "code",
   "execution_count": 87,
   "id": "96be321f",
   "metadata": {},
   "outputs": [
    {
     "data": {
      "text/plain": [
       "1.654076520269829e-225"
      ]
     },
     "execution_count": 87,
     "metadata": {},
     "output_type": "execute_result"
    }
   ],
   "source": [
    "test = CompareMeans(test_h, test_m)\n",
    "z, p_value = test.ztest_ind(alternative=\"smaller\", value=0)\n",
    "p_value"
   ]
  },
  {
   "cell_type": "markdown",
   "id": "0db40109",
   "metadata": {},
   "source": [
    "### H<sub>0</sub>: Estudo das mulheres >= Estudo dos homens\n",
    "### H<sub>1</sub>: Estudo das mulheres < Estudo dos homens"
   ]
  },
  {
   "cell_type": "code",
   "execution_count": 89,
   "id": "15959d98",
   "metadata": {},
   "outputs": [
    {
     "data": {
      "text/plain": [
       "1.0"
      ]
     },
     "execution_count": 89,
     "metadata": {},
     "output_type": "execute_result"
    }
   ],
   "source": [
    "test = CompareMeans(test_h, test_m)\n",
    "z, p_value = test.ztest_ind(alternative=\"larger\", value=0)\n",
    "p_value"
   ]
  },
  {
   "cell_type": "markdown",
   "id": "482a2a95",
   "metadata": {},
   "source": [
    "### H<sub>0</sub>: Estudo das mulheres == Estudo dos homens\n",
    "### H<sub>1</sub>: Estudo das mulheres != Estudo dos homens"
   ]
  },
  {
   "cell_type": "code",
   "execution_count": 90,
   "id": "d68d2956",
   "metadata": {},
   "outputs": [
    {
     "data": {
      "text/plain": [
       "3.308153040539658e-225"
      ]
     },
     "execution_count": 90,
     "metadata": {},
     "output_type": "execute_result"
    }
   ],
   "source": [
    "test = CompareMeans(test_h, test_m)\n",
    "z, p_value = test.ztest_ind(alternative=\"two-sided\", value=0)\n",
    "p_value"
   ]
  },
  {
   "cell_type": "markdown",
   "id": "9b561354",
   "metadata": {},
   "source": [
    "# Visualizando graficamente com boxplots"
   ]
  },
  {
   "cell_type": "markdown",
   "id": "e173d4de",
   "metadata": {},
   "source": [
    "<img src='https://caelum-online-public.s3.amazonaws.com/1177-estatistica-parte1/01/img006.png' width='80%'>"
   ]
  },
  {
   "cell_type": "code",
   "execution_count": 143,
   "id": "6cc689de",
   "metadata": {},
   "outputs": [
    {
     "data": {
      "text/plain": [
       "<AxesSubplot:title={'center':'Renda de Acordo com Sexo e Etnia, com Renda menor que 8000'}, xlabel='Renda em R$', ylabel='Cor'>"
      ]
     },
     "execution_count": 143,
     "metadata": {},
     "output_type": "execute_result"
    },
    {
     "data": {
      "image/png": "[encoded data removed]",
      "text/plain": [
       "<Figure size 1152x1440 with 1 Axes>"
      ]
     },
     "metadata": {},
     "output_type": "display_data"
    }
   ],
   "source": [
    "boxplot_x(data=dados.query('Renda > 0').query('Renda < 8000'), x='Renda', y='Cor', hue='Sexo', titulo='Renda de Acordo com Sexo e Etnia, com Renda menor que 8000', xlabel='Renda em R$', size=(16, 20))"
   ]
  },
  {
   "cell_type": "code",
   "execution_count": 83,
   "id": "4a32eb4a",
   "metadata": {},
   "outputs": [
    {
     "data": {
      "text/plain": [
       "<AxesSubplot:title={'center':'Anos de Estudo de acordo com Sexo e Etnia'}, xlabel='Renda em R$', ylabel='Cor'>"
      ]
     },
     "execution_count": 83,
     "metadata": {},
     "output_type": "execute_result"
    },
    {
     "data": {
      "image/png": "[encoded data removed]",
      "text/plain": [
       "<Figure size 1152x1440 with 1 Axes>"
      ]
     },
     "metadata": {},
     "output_type": "display_data"
    }
   ],
   "source": [
    "boxplot_x(data=dados, x='Anos de Estudo', y='Cor', hue='Sexo', titulo='Anos de Estudo de acordo com Sexo e Etnia', xlabel='Renda em R$', size=(16, 20))"
   ]
  },
  {
   "cell_type": "code",
   "execution_count": 84,
   "id": "05c2aaaf",
   "metadata": {},
   "outputs": [
    {
     "data": {
      "text/html": [
       "<div>\n",
       "<style scoped>\n",
       "    .dataframe tbody tr th:only-of-type {\n",
       "        vertical-align: middle;\n",
       "    }\n",
       "\n",
       "    .dataframe tbody tr th {\n",
       "        vertical-align: top;\n",
       "    }\n",
       "\n",
       "    .dataframe thead th {\n",
       "        text-align: right;\n",
       "    }\n",
       "</style>\n",
       "<table border=\"1\" class=\"dataframe\">\n",
       "  <thead>\n",
       "    <tr style=\"text-align: right;\">\n",
       "      <th></th>\n",
       "      <th>Idade</th>\n",
       "      <th>Anos de Estudo</th>\n",
       "      <th>Renda</th>\n",
       "      <th>Altura</th>\n",
       "    </tr>\n",
       "  </thead>\n",
       "  <tbody>\n",
       "    <tr>\n",
       "      <th>Idade</th>\n",
       "      <td>1.000000</td>\n",
       "      <td>-0.251815</td>\n",
       "      <td>0.027138</td>\n",
       "      <td>-0.002605</td>\n",
       "    </tr>\n",
       "    <tr>\n",
       "      <th>Anos de Estudo</th>\n",
       "      <td>-0.251815</td>\n",
       "      <td>1.000000</td>\n",
       "      <td>0.445477</td>\n",
       "      <td>0.005461</td>\n",
       "    </tr>\n",
       "    <tr>\n",
       "      <th>Renda</th>\n",
       "      <td>0.027138</td>\n",
       "      <td>0.445477</td>\n",
       "      <td>1.000000</td>\n",
       "      <td>0.003185</td>\n",
       "    </tr>\n",
       "    <tr>\n",
       "      <th>Altura</th>\n",
       "      <td>-0.002605</td>\n",
       "      <td>0.005461</td>\n",
       "      <td>0.003185</td>\n",
       "      <td>1.000000</td>\n",
       "    </tr>\n",
       "  </tbody>\n",
       "</table>\n",
       "</div>"
      ],
      "text/plain": [
       "                   Idade  Anos de Estudo     Renda    Altura\n",
       "Idade           1.000000       -0.251815  0.027138 -0.002605\n",
       "Anos de Estudo -0.251815        1.000000  0.445477  0.005461\n",
       "Renda           0.027138        0.445477  1.000000  0.003185\n",
       "Altura         -0.002605        0.005461  0.003185  1.000000"
      ]
     },
     "execution_count": 84,
     "metadata": {},
     "output_type": "execute_result"
    }
   ],
   "source": [
    "dados.query('Renda > 0').query('Renda < 10000').corr()"
   ]
  },
  {
   "cell_type": "code",
   "execution_count": 85,
   "id": "c7783f69",
   "metadata": {},
   "outputs": [
    {
     "data": {
      "text/html": [
       "<div>\n",
       "<style scoped>\n",
       "    .dataframe tbody tr th:only-of-type {\n",
       "        vertical-align: middle;\n",
       "    }\n",
       "\n",
       "    .dataframe tbody tr th {\n",
       "        vertical-align: top;\n",
       "    }\n",
       "\n",
       "    .dataframe thead th {\n",
       "        text-align: right;\n",
       "    }\n",
       "</style>\n",
       "<table border=\"1\" class=\"dataframe\">\n",
       "  <thead>\n",
       "    <tr style=\"text-align: right;\">\n",
       "      <th></th>\n",
       "      <th>Idade</th>\n",
       "      <th>Anos de Estudo</th>\n",
       "      <th>Renda</th>\n",
       "      <th>Altura</th>\n",
       "    </tr>\n",
       "  </thead>\n",
       "  <tbody>\n",
       "    <tr>\n",
       "      <th>Idade</th>\n",
       "      <td>1.000000</td>\n",
       "      <td>-0.267006</td>\n",
       "      <td>0.041097</td>\n",
       "      <td>-0.001266</td>\n",
       "    </tr>\n",
       "    <tr>\n",
       "      <th>Anos de Estudo</th>\n",
       "      <td>-0.267006</td>\n",
       "      <td>1.000000</td>\n",
       "      <td>0.334513</td>\n",
       "      <td>0.003751</td>\n",
       "    </tr>\n",
       "    <tr>\n",
       "      <th>Renda</th>\n",
       "      <td>0.041097</td>\n",
       "      <td>0.334513</td>\n",
       "      <td>1.000000</td>\n",
       "      <td>-0.004031</td>\n",
       "    </tr>\n",
       "    <tr>\n",
       "      <th>Altura</th>\n",
       "      <td>-0.001266</td>\n",
       "      <td>0.003751</td>\n",
       "      <td>-0.004031</td>\n",
       "      <td>1.000000</td>\n",
       "    </tr>\n",
       "  </tbody>\n",
       "</table>\n",
       "</div>"
      ],
      "text/plain": [
       "                   Idade  Anos de Estudo     Renda    Altura\n",
       "Idade           1.000000       -0.267006  0.041097 -0.001266\n",
       "Anos de Estudo -0.267006        1.000000  0.334513  0.003751\n",
       "Renda           0.041097        0.334513  1.000000 -0.004031\n",
       "Altura         -0.001266        0.003751 -0.004031  1.000000"
      ]
     },
     "execution_count": 85,
     "metadata": {},
     "output_type": "execute_result"
    }
   ],
   "source": [
    "dados.corr()"
   ]
  },
  {
   "cell_type": "markdown",
   "id": "f3e5ea8d",
   "metadata": {},
   "source": [
    "# Criando um modelo de regressão"
   ]
  },
  {
   "cell_type": "code",
   "execution_count": 92,
   "id": "b21aa868",
   "metadata": {},
   "outputs": [],
   "source": [
    "import statsmodels.api as sm"
   ]
  },
  {
   "cell_type": "markdown",
   "id": "1b610367",
   "metadata": {},
   "source": [
    "## Para simplificar o modelo e aumentar sua precisão, vamos considerar somente as pessoas cuja renda está entre 500 e 10000"
   ]
  },
  {
   "cell_type": "code",
   "execution_count": 108,
   "id": "bda89e9a",
   "metadata": {},
   "outputs": [],
   "source": [
    "dados_filtrado = dados[dados.Renda > 500]\n",
    "dados_filtrado = dados_filtrado[dados_filtrado.Renda < 10000]"
   ]
  },
  {
   "cell_type": "code",
   "execution_count": 109,
   "id": "1c203088",
   "metadata": {},
   "outputs": [],
   "source": [
    "X = sm.add_constant(dados_filtrado['Anos de Estudo'])\n",
    "Y = dados_filtrado.Renda\n",
    "resultado_regressao = sm.OLS(Y, X, missing='drop').fit()"
   ]
  },
  {
   "cell_type": "code",
   "execution_count": 112,
   "id": "a33f0d99",
   "metadata": {},
   "outputs": [
    {
     "name": "stdout",
     "output_type": "stream",
     "text": [
      "                            OLS Regression Results                            \n",
      "==============================================================================\n",
      "Dep. Variable:                  Renda   R-squared:                       0.162\n",
      "Model:                            OLS   Adj. R-squared:                  0.162\n",
      "Method:                 Least Squares   F-statistic:                 1.219e+04\n",
      "Date:                Sat, 23 Oct 2021   Prob (F-statistic):               0.00\n",
      "Time:                        18:14:54   Log-Likelihood:            -5.4317e+05\n",
      "No. Observations:               62904   AIC:                         1.086e+06\n",
      "Df Residuals:                   62902   BIC:                         1.086e+06\n",
      "Df Model:                           1                                         \n",
      "Covariance Type:            nonrobust                                         \n",
      "==================================================================================\n",
      "                     coef    std err          t      P>|t|      [0.025      0.975]\n",
      "----------------------------------------------------------------------------------\n",
      "const            609.2686     12.781     47.671      0.000     584.218     634.319\n",
      "Anos de Estudo   142.1465      1.287    110.419      0.000     139.623     144.670\n",
      "==============================================================================\n",
      "Omnibus:                    24303.897   Durbin-Watson:                   1.677\n",
      "Prob(Omnibus):                  0.000   Jarque-Bera (JB):            97733.409\n",
      "Skew:                           1.920   Prob(JB):                         0.00\n",
      "Kurtosis:                       7.749   Cond. No.                         23.6\n",
      "==============================================================================\n",
      "\n",
      "Notes:\n",
      "[1] Standard Errors assume that the covariance matrix of the errors is correctly specified.\n"
     ]
    }
   ],
   "source": [
    "print(resultado_regressao.summary())"
   ]
  },
  {
   "cell_type": "markdown",
   "id": "84b09379",
   "metadata": {},
   "source": [
    "### Fórmula Desenvolvida : Renda = 609,27 + 142,15 * Anos de Estudo"
   ]
  },
  {
   "cell_type": "code",
   "execution_count": 114,
   "id": "628d19d3",
   "metadata": {},
   "outputs": [
    {
     "data": {
      "text/plain": [
       "2741.4656211050487"
      ]
     },
     "execution_count": 114,
     "metadata": {},
     "output_type": "execute_result"
    }
   ],
   "source": [
    "resultado_regressao.predict([1, 15])[0]"
   ]
  },
  {
   "cell_type": "markdown",
   "id": "67fd20c9",
   "metadata": {},
   "source": [
    "### Exemplo: Uma pessoa com 15 anos de estudo ganharia: 2741,46 reais"
   ]
  },
  {
   "cell_type": "markdown",
   "id": "d2e4efcf",
   "metadata": {},
   "source": [
    "### Vamos dividir de acordo com gênero e cor para comparar os resultados"
   ]
  },
  {
   "cell_type": "markdown",
   "id": "93d469cc",
   "metadata": {},
   "source": [
    "## Homens"
   ]
  },
  {
   "cell_type": "code",
   "execution_count": 124,
   "id": "f0b07112",
   "metadata": {},
   "outputs": [],
   "source": [
    "homens = dados_filtrado.query('Sexo == \"Masculino\"')\n",
    "\n",
    "X = sm.add_constant(homens['Anos de Estudo'])\n",
    "Y = homens.Renda\n",
    "resultado_regressao = sm.OLS(Y, X, missing='drop').fit()"
   ]
  },
  {
   "cell_type": "code",
   "execution_count": 125,
   "id": "7efe30dd",
   "metadata": {},
   "outputs": [
    {
     "name": "stdout",
     "output_type": "stream",
     "text": [
      "                            OLS Regression Results                            \n",
      "==============================================================================\n",
      "Dep. Variable:                  Renda   R-squared:                       0.177\n",
      "Model:                            OLS   Adj. R-squared:                  0.177\n",
      "Method:                 Least Squares   F-statistic:                     9632.\n",
      "Date:                Sat, 23 Oct 2021   Prob (F-statistic):               0.00\n",
      "Time:                        18:25:36   Log-Likelihood:            -3.8749e+05\n",
      "No. Observations:               44829   AIC:                         7.750e+05\n",
      "Df Residuals:                   44827   BIC:                         7.750e+05\n",
      "Df Model:                           1                                         \n",
      "Covariance Type:            nonrobust                                         \n",
      "==================================================================================\n",
      "                     coef    std err          t      P>|t|      [0.025      0.975]\n",
      "----------------------------------------------------------------------------------\n",
      "const            694.8406     14.650     47.429      0.000     666.126     723.555\n",
      "Anos de Estudo   150.7088      1.536     98.141      0.000     147.699     153.719\n",
      "==============================================================================\n",
      "Omnibus:                    16206.386   Durbin-Watson:                   1.682\n",
      "Prob(Omnibus):                  0.000   Jarque-Bera (JB):            59525.346\n",
      "Skew:                           1.819   Prob(JB):                         0.00\n",
      "Kurtosis:                       7.316   Cond. No.                         21.7\n",
      "==============================================================================\n",
      "\n",
      "Notes:\n",
      "[1] Standard Errors assume that the covariance matrix of the errors is correctly specified.\n"
     ]
    }
   ],
   "source": [
    "print(resultado_regressao.summary())"
   ]
  },
  {
   "cell_type": "markdown",
   "id": "f8bc1390",
   "metadata": {},
   "source": [
    "### Fórmula Desenvolvida : Renda = 694,84 + 150,70 * Anos de Estudo"
   ]
  },
  {
   "cell_type": "code",
   "execution_count": 126,
   "id": "b17f056d",
   "metadata": {},
   "outputs": [
    {
     "data": {
      "text/plain": [
       "2955.47291369705"
      ]
     },
     "execution_count": 126,
     "metadata": {},
     "output_type": "execute_result"
    }
   ],
   "source": [
    "previsao_homem = resultado_regressao.predict([1, 15])[0]\n",
    "previsao_homem"
   ]
  },
  {
   "cell_type": "markdown",
   "id": "d58e9da2",
   "metadata": {},
   "source": [
    "### Um homem com 15 anos de estudo ganharia um salário de 2955,47 reais"
   ]
  },
  {
   "cell_type": "markdown",
   "id": "ab14f865",
   "metadata": {},
   "source": [
    "## Mulheres:"
   ]
  },
  {
   "cell_type": "code",
   "execution_count": 127,
   "id": "77028bc0",
   "metadata": {},
   "outputs": [],
   "source": [
    "mulheres = dados_filtrado.query('Sexo == \"Feminino\"')\n",
    "\n",
    "X = sm.add_constant(mulheres['Anos de Estudo'])\n",
    "Y = mulheres.Renda\n",
    "resultado_regressao = sm.OLS(Y, X, missing='drop').fit()"
   ]
  },
  {
   "cell_type": "code",
   "execution_count": 128,
   "id": "9c915a16",
   "metadata": {},
   "outputs": [
    {
     "name": "stdout",
     "output_type": "stream",
     "text": [
      "                            OLS Regression Results                            \n",
      "==============================================================================\n",
      "Dep. Variable:                  Renda   R-squared:                       0.200\n",
      "Model:                            OLS   Adj. R-squared:                  0.200\n",
      "Method:                 Least Squares   F-statistic:                     4527.\n",
      "Date:                Sat, 23 Oct 2021   Prob (F-statistic):               0.00\n",
      "Time:                        18:25:50   Log-Likelihood:            -1.5445e+05\n",
      "No. Observations:               18075   AIC:                         3.089e+05\n",
      "Df Residuals:                   18073   BIC:                         3.089e+05\n",
      "Df Model:                           1                                         \n",
      "Covariance Type:            nonrobust                                         \n",
      "==================================================================================\n",
      "                     coef    std err          t      P>|t|      [0.025      0.975]\n",
      "----------------------------------------------------------------------------------\n",
      "const             78.8372     25.065      3.145      0.002      29.707     127.967\n",
      "Anos de Estudo   155.7103      2.314     67.284      0.000     151.174     160.246\n",
      "==============================================================================\n",
      "Omnibus:                     8533.110   Durbin-Watson:                   1.652\n",
      "Prob(Omnibus):                  0.000   Jarque-Bera (JB):            49092.880\n",
      "Skew:                           2.250   Prob(JB):                         0.00\n",
      "Kurtosis:                       9.703   Cond. No.                         29.6\n",
      "==============================================================================\n",
      "\n",
      "Notes:\n",
      "[1] Standard Errors assume that the covariance matrix of the errors is correctly specified.\n"
     ]
    }
   ],
   "source": [
    "print(resultado_regressao.summary())"
   ]
  },
  {
   "cell_type": "markdown",
   "id": "6d6c8288",
   "metadata": {},
   "source": [
    "### Fórmula Desenvolvida : Renda = 78,83 + 155,71 * Anos de Estudo"
   ]
  },
  {
   "cell_type": "code",
   "execution_count": 129,
   "id": "02575dde",
   "metadata": {},
   "outputs": [
    {
     "data": {
      "text/plain": [
       "2414.4920365721614"
      ]
     },
     "execution_count": 129,
     "metadata": {},
     "output_type": "execute_result"
    }
   ],
   "source": [
    "previsao_mulher = resultado_regressao.predict([1, 15])[0]\n",
    "previsao_mulher"
   ]
  },
  {
   "cell_type": "markdown",
   "id": "c39c2491",
   "metadata": {},
   "source": [
    "### Uma mulher com 15 anos de Estudo ganharia 2414,49 reais"
   ]
  },
  {
   "cell_type": "code",
   "execution_count": 130,
   "id": "2ae6e4c1",
   "metadata": {},
   "outputs": [
    {
     "data": {
      "text/plain": [
       "540.9808771248886"
      ]
     },
     "execution_count": 130,
     "metadata": {},
     "output_type": "execute_result"
    }
   ],
   "source": [
    "previsao_homem - previsao_mulher"
   ]
  },
  {
   "cell_type": "markdown",
   "id": "735f7d5e",
   "metadata": {},
   "source": [
    "### Diferença de: 540,98 reais"
   ]
  },
  {
   "cell_type": "markdown",
   "id": "47f30026",
   "metadata": {},
   "source": [
    "## Homens Brancos"
   ]
  },
  {
   "cell_type": "code",
   "execution_count": 136,
   "id": "03b87715",
   "metadata": {},
   "outputs": [],
   "source": [
    "homens_brancos = dados_filtrado.query('Sexo == \"Masculino\"').query('Cor == \"Branca\"')\n",
    "\n",
    "X = sm.add_constant(homens_brancos['Anos de Estudo'])\n",
    "Y = homens_brancos.Renda\n",
    "resultado_regressao = sm.OLS(Y, X, missing='drop').fit()"
   ]
  },
  {
   "cell_type": "code",
   "execution_count": 137,
   "id": "282347d4",
   "metadata": {},
   "outputs": [
    {
     "name": "stdout",
     "output_type": "stream",
     "text": [
      "                            OLS Regression Results                            \n",
      "==============================================================================\n",
      "Dep. Variable:                  Renda   R-squared:                       0.191\n",
      "Model:                            OLS   Adj. R-squared:                  0.191\n",
      "Method:                 Least Squares   F-statistic:                     4547.\n",
      "Date:                Sat, 23 Oct 2021   Prob (F-statistic):               0.00\n",
      "Time:                        18:28:42   Log-Likelihood:            -1.6827e+05\n",
      "No. Observations:               19220   AIC:                         3.365e+05\n",
      "Df Residuals:                   19218   BIC:                         3.366e+05\n",
      "Df Model:                           1                                         \n",
      "Covariance Type:            nonrobust                                         \n",
      "==================================================================================\n",
      "                     coef    std err          t      P>|t|      [0.025      0.975]\n",
      "----------------------------------------------------------------------------------\n",
      "const            684.4636     26.823     25.518      0.000     631.889     737.038\n",
      "Anos de Estudo   177.8640      2.638     67.431      0.000     172.694     183.034\n",
      "==============================================================================\n",
      "Omnibus:                     5164.387   Durbin-Watson:                   1.727\n",
      "Prob(Omnibus):                  0.000   Jarque-Bera (JB):            12669.649\n",
      "Skew:                           1.490   Prob(JB):                         0.00\n",
      "Kurtosis:                       5.634   Cond. No.                         24.8\n",
      "==============================================================================\n",
      "\n",
      "Notes:\n",
      "[1] Standard Errors assume that the covariance matrix of the errors is correctly specified.\n"
     ]
    }
   ],
   "source": [
    "print(resultado_regressao.summary())"
   ]
  },
  {
   "cell_type": "markdown",
   "id": "1829cd0a",
   "metadata": {},
   "source": [
    "### Fórmula Desenvolvida : Renda = 684,46 + 177,86 * Anos de Estudo"
   ]
  },
  {
   "cell_type": "code",
   "execution_count": 138,
   "id": "04167ec7",
   "metadata": {},
   "outputs": [
    {
     "data": {
      "text/plain": [
       "3352.4234201494037"
      ]
     },
     "execution_count": 138,
     "metadata": {},
     "output_type": "execute_result"
    }
   ],
   "source": [
    "previsao_homem_branco = resultado_regressao.predict([1, 15])[0]\n",
    "previsao_homem_branco"
   ]
  },
  {
   "cell_type": "markdown",
   "id": "e2ec2e8f",
   "metadata": {},
   "source": [
    "## Um homem branco com 15 anos de estudo teria uma renda de 3352,42 reais"
   ]
  },
  {
   "cell_type": "markdown",
   "id": "eea3da67",
   "metadata": {},
   "source": [
    "## Mulheres Negras"
   ]
  },
  {
   "cell_type": "code",
   "execution_count": 139,
   "id": "e28f73bb",
   "metadata": {},
   "outputs": [],
   "source": [
    "mulheres_negras = dados_filtrado.query('Sexo == \"Feminino\"').query('Cor == \"Preta\"')\n",
    "\n",
    "X = sm.add_constant(mulheres_negras['Anos de Estudo'])\n",
    "Y = mulheres_negras.Renda\n",
    "resultado_regressao = sm.OLS(Y, X, missing='drop').fit()"
   ]
  },
  {
   "cell_type": "code",
   "execution_count": 140,
   "id": "52856364",
   "metadata": {},
   "outputs": [
    {
     "name": "stdout",
     "output_type": "stream",
     "text": [
      "                            OLS Regression Results                            \n",
      "==============================================================================\n",
      "Dep. Variable:                  Renda   R-squared:                       0.145\n",
      "Model:                            OLS   Adj. R-squared:                  0.145\n",
      "Method:                 Least Squares   F-statistic:                     369.0\n",
      "Date:                Sat, 23 Oct 2021   Prob (F-statistic):           4.43e-76\n",
      "Time:                        18:33:42   Log-Likelihood:                -18054.\n",
      "No. Observations:                2174   AIC:                         3.611e+04\n",
      "Df Residuals:                    2172   BIC:                         3.612e+04\n",
      "Df Model:                           1                                         \n",
      "Covariance Type:            nonrobust                                         \n",
      "==================================================================================\n",
      "                     coef    std err          t      P>|t|      [0.025      0.975]\n",
      "----------------------------------------------------------------------------------\n",
      "const            398.3626     53.549      7.439      0.000     293.350     503.376\n",
      "Anos de Estudo   101.3651      5.277     19.209      0.000      91.017     111.713\n",
      "==============================================================================\n",
      "Omnibus:                     1446.103   Durbin-Watson:                   1.796\n",
      "Prob(Omnibus):                  0.000   Jarque-Bera (JB):            18147.295\n",
      "Skew:                           3.035   Prob(JB):                         0.00\n",
      "Kurtosis:                      15.786   Cond. No.                         26.1\n",
      "==============================================================================\n",
      "\n",
      "Notes:\n",
      "[1] Standard Errors assume that the covariance matrix of the errors is correctly specified.\n"
     ]
    }
   ],
   "source": [
    "print(resultado_regressao.summary())"
   ]
  },
  {
   "cell_type": "markdown",
   "id": "816ee0fb",
   "metadata": {},
   "source": [
    "### Fórmula Desenvolvida : Renda = 398,36 + 101,36 * Anos de Estudo"
   ]
  },
  {
   "cell_type": "code",
   "execution_count": 141,
   "id": "fc829ea1",
   "metadata": {},
   "outputs": [
    {
     "data": {
      "text/plain": [
       "1918.8385354804623"
      ]
     },
     "execution_count": 141,
     "metadata": {},
     "output_type": "execute_result"
    }
   ],
   "source": [
    "previsao_mulher_negra = resultado_regressao.predict([1, 15])[0]\n",
    "previsao_mulher_negra"
   ]
  },
  {
   "cell_type": "markdown",
   "id": "f69054fb",
   "metadata": {},
   "source": [
    "## Uma mulher negra com 15 anos de estudo ganharia 1918,83 reais"
   ]
  },
  {
   "cell_type": "code",
   "execution_count": 142,
   "id": "e8af1956",
   "metadata": {},
   "outputs": [
    {
     "data": {
      "text/plain": [
       "1433.5848846689414"
      ]
     },
     "execution_count": 142,
     "metadata": {},
     "output_type": "execute_result"
    }
   ],
   "source": [
    "previsao_homem_branco - previsao_mulher_negra"
   ]
  },
  {
   "cell_type": "markdown",
   "id": "cf2c8c9e",
   "metadata": {},
   "source": [
    "## Diferença entre o salário de um homem branco e de uma mulher negra: 1433,58 reais"
   ]
  }
 ],
 "metadata": {
  "kernelspec": {
   "display_name": "Python 3",
   "language": "python",
   "name": "python3"
  },
  "language_info": {
   "codemirror_mode": {
    "name": "ipython",
    "version": 3
   },
   "file_extension": ".py",
   "mimetype": "text/x-python",
   "name": "python",
   "nbconvert_exporter": "python",
   "pygments_lexer": "ipython3",
   "version": "3.8.8"
  }
 },
 "nbformat": 4,
 "nbformat_minor": 5
}
